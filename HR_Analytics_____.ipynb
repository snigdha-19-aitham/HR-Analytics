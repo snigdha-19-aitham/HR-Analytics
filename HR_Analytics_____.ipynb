{
  "cells": [
    {
      "cell_type": "markdown",
      "metadata": {
        "colab_type": "text",
        "id": "view-in-github"
      },
      "source": [
        "<a href=\"https://colab.research.google.com/github/itz-abhay/HR-Analytics/blob/main/HR_Analytics_.ipynb\" target=\"_parent\"><img src=\"https://colab.research.google.com/assets/colab-badge.svg\" alt=\"Open In Colab\"/></a>"
      ]
    },
    {
      "cell_type": "markdown",
      "metadata": {
        "id": "0L8bAOBotMP9"
      },
      "source": [
        "# Abstract:\n",
        "**ScaleneWorks** supports several information technology (IT) companies in India with their talent acquisition. One of the challenge they face is about **30%** of the candidates who accept the jobs offers, do not join the company. This lead to\n",
        "huge loss of revenue and time as the companies initiate the recruitment\n",
        "process again to fill the workforce demand. So scaleneWorks want to find out if a model can be build to predict the likelihood of a candidate joining the\n",
        "company. If the likelihood is high, then the company can go ahead and offer\n",
        "the jobs to the candidates.\n",
        "\n",
        "# DataSet Description:\n",
        "\n",
        "**Candidate**: Reference number; it is a unique to identify the candidate.\n",
        "\n",
        "**DOJextended**: Binary variable identifying candidate asked for date of joining extension (yes/no).\n",
        "\n",
        "**Duration to accept the offer**: Number of days taken by the candidate to accept the offer (Scale variable).\n",
        "\n",
        "**Notice Period**: Notice period to be served in the parting company before candidate can join this company.\n",
        "\n",
        "**Offered band**: Band offered to the candidate based on experience, performance in the interview rounds (E0/E1/E2/E3).\n",
        "\n",
        "**Percentage hike expected**: Percentage hike expected by the candidate (Scale variable).\n",
        "\n",
        "**Percentage hike offered**: Percentage hike offered by the company (Scale variable).\n",
        "\n",
        "**Joining bonus**: Binary variable indicating if joining bonus was given or not (yes/no).\n",
        "\n",
        "**Gender**: Gender of the candidate (male/female).\n",
        "\n",
        "**Candidate source**: Source form which resume of the candidates was obtained (Employee referral/Agency/Direct).\n",
        "\n",
        "**REX (in yrs)**: Relevant years of experience of the candidate for the position offered.\n",
        "\n",
        "**LOB**: Line of business for which offer was rolled out.\n",
        "\n",
        "**Age**: Age of the candidate.\n",
        "\n",
        "**Joining location**: Company location for which the offer was rolled out for the candidate to join.\n",
        "\n",
        "**Candidate relocation status**: Binary Variable indicating whether the candidate has to relocate from one city to another city for joining (yes/no).\n",
        "\n",
        "**HR Status**: Final joining status of the candidate (joined/ no joined).\n",
        "\n",
        "# Insight of Data:\n",
        "\n",
        "**Number of attributes:** 18\n",
        "\n",
        "**Target attribute:** Status\n",
        "\n",
        "**Any missing values:** None\n",
        "\n",
        "# Requirement:\n",
        "**Python 3.x**\n",
        "\n",
        "### Basic Libaries:\n",
        "**Numpy**: NumPy is a library for the Python programming language, adding support for large, multi-dimensional arrays and matrices, along with a large collection of high-level mathematical functions to operate on these arrays.\n",
        "\n",
        "**Pandas**: In computer programming, pandas is a software library written for the Python programming language for data manipulation and analysis. In particular, it offers data structures and operations for manipulating numerical tables and time series. It is free software released under the three-clause BSD license.\n",
        "\n",
        "**Seaborn**: Seaborn is a Python data visualization library based on matplotlib. It provides a high-level interface for drawing attractive and informative statistical graphics.\n",
        "\n",
        "**Matplotlib**: Matplotlib is a plotting library for the Python programming language and its numerical mathematics extension NumPy. It provides an object-oriented API for embedding plots into applications using general-purpose GUI toolkits."
      ]
    },
    {
      "cell_type": "code",
      "execution_count": 1,
      "metadata": {
        "id": "xmUtcf-uNeb1"
      },
      "outputs": [],
      "source": [
        "#Import the required libaries.\n",
        "import numpy as np\n",
        "import pandas as pd\n",
        "import seaborn as sns\n",
        "sns.set_style(\"whitegrid\")\n",
        "import itertools\n",
        "import matplotlib.pyplot as plt\n",
        "%matplotlib inline\n",
        "\n",
        "#Misc to ignore warnings\n",
        "import warnings\n",
        "warnings.filterwarnings(\"ignore\")"
      ]
    },
    {
      "cell_type": "code",
      "execution_count": 3,
      "metadata": {
        "id": "F0mG-XhGOlFw"
      },
      "outputs": [],
      "source": [
        "#Read the csv using the pandas to df\n",
        "df = pd.read_csv('HR_data.csv')"
      ]
    },
    {
      "cell_type": "code",
      "execution_count": 4,
      "metadata": {
        "colab": {
          "base_uri": "https://localhost:8080/",
          "height": 226
        },
        "id": "lhap_Kk4O7rx",
        "outputId": "3c200cee-f25a-49bc-934e-8f0bf6e790fd"
      },
      "outputs": [
        {
          "data": {
            "text/html": [
              "<div>\n",
              "<style scoped>\n",
              "    .dataframe tbody tr th:only-of-type {\n",
              "        vertical-align: middle;\n",
              "    }\n",
              "\n",
              "    .dataframe tbody tr th {\n",
              "        vertical-align: top;\n",
              "    }\n",
              "\n",
              "    .dataframe thead th {\n",
              "        text-align: right;\n",
              "    }\n",
              "</style>\n",
              "<table border=\"1\" class=\"dataframe\">\n",
              "  <thead>\n",
              "    <tr style=\"text-align: right;\">\n",
              "      <th></th>\n",
              "      <th>SLNO</th>\n",
              "      <th>Candidate.Ref</th>\n",
              "      <th>DOJ.Extended</th>\n",
              "      <th>Duration.to.accept.offer</th>\n",
              "      <th>Notice.period</th>\n",
              "      <th>Offered.band</th>\n",
              "      <th>Pecent.hike.expected.in.CTC</th>\n",
              "      <th>Percent.hike.offered.in.CTC</th>\n",
              "      <th>Percent.difference.CTC</th>\n",
              "      <th>Joining.Bonus</th>\n",
              "      <th>Candidate.relocate.actual</th>\n",
              "      <th>Gender</th>\n",
              "      <th>Candidate.Source</th>\n",
              "      <th>Rex.in.Yrs</th>\n",
              "      <th>LOB</th>\n",
              "      <th>Location</th>\n",
              "      <th>Age</th>\n",
              "      <th>Status</th>\n",
              "    </tr>\n",
              "  </thead>\n",
              "  <tbody>\n",
              "    <tr>\n",
              "      <th>0</th>\n",
              "      <td>1</td>\n",
              "      <td>2110407</td>\n",
              "      <td>Yes</td>\n",
              "      <td>14</td>\n",
              "      <td>30</td>\n",
              "      <td>E2</td>\n",
              "      <td>-20.79</td>\n",
              "      <td>13.16</td>\n",
              "      <td>42.86</td>\n",
              "      <td>No</td>\n",
              "      <td>No</td>\n",
              "      <td>Female</td>\n",
              "      <td>Agency</td>\n",
              "      <td>7</td>\n",
              "      <td>ERS</td>\n",
              "      <td>Noida</td>\n",
              "      <td>34</td>\n",
              "      <td>Joined</td>\n",
              "    </tr>\n",
              "    <tr>\n",
              "      <th>1</th>\n",
              "      <td>2</td>\n",
              "      <td>2112635</td>\n",
              "      <td>No</td>\n",
              "      <td>18</td>\n",
              "      <td>30</td>\n",
              "      <td>E2</td>\n",
              "      <td>50.00</td>\n",
              "      <td>320.00</td>\n",
              "      <td>180.00</td>\n",
              "      <td>No</td>\n",
              "      <td>No</td>\n",
              "      <td>Male</td>\n",
              "      <td>Employee Referral</td>\n",
              "      <td>8</td>\n",
              "      <td>INFRA</td>\n",
              "      <td>Chennai</td>\n",
              "      <td>34</td>\n",
              "      <td>Joined</td>\n",
              "    </tr>\n",
              "    <tr>\n",
              "      <th>2</th>\n",
              "      <td>3</td>\n",
              "      <td>2112838</td>\n",
              "      <td>No</td>\n",
              "      <td>3</td>\n",
              "      <td>45</td>\n",
              "      <td>E2</td>\n",
              "      <td>42.84</td>\n",
              "      <td>42.84</td>\n",
              "      <td>0.00</td>\n",
              "      <td>No</td>\n",
              "      <td>No</td>\n",
              "      <td>Male</td>\n",
              "      <td>Agency</td>\n",
              "      <td>4</td>\n",
              "      <td>INFRA</td>\n",
              "      <td>Noida</td>\n",
              "      <td>27</td>\n",
              "      <td>Joined</td>\n",
              "    </tr>\n",
              "    <tr>\n",
              "      <th>3</th>\n",
              "      <td>4</td>\n",
              "      <td>2115021</td>\n",
              "      <td>No</td>\n",
              "      <td>26</td>\n",
              "      <td>30</td>\n",
              "      <td>E2</td>\n",
              "      <td>42.84</td>\n",
              "      <td>42.84</td>\n",
              "      <td>0.00</td>\n",
              "      <td>No</td>\n",
              "      <td>No</td>\n",
              "      <td>Male</td>\n",
              "      <td>Employee Referral</td>\n",
              "      <td>4</td>\n",
              "      <td>INFRA</td>\n",
              "      <td>Noida</td>\n",
              "      <td>34</td>\n",
              "      <td>Joined</td>\n",
              "    </tr>\n",
              "    <tr>\n",
              "      <th>4</th>\n",
              "      <td>5</td>\n",
              "      <td>2115125</td>\n",
              "      <td>Yes</td>\n",
              "      <td>1</td>\n",
              "      <td>120</td>\n",
              "      <td>E2</td>\n",
              "      <td>42.59</td>\n",
              "      <td>42.59</td>\n",
              "      <td>0.00</td>\n",
              "      <td>No</td>\n",
              "      <td>Yes</td>\n",
              "      <td>Male</td>\n",
              "      <td>Employee Referral</td>\n",
              "      <td>6</td>\n",
              "      <td>INFRA</td>\n",
              "      <td>Noida</td>\n",
              "      <td>34</td>\n",
              "      <td>Joined</td>\n",
              "    </tr>\n",
              "  </tbody>\n",
              "</table>\n",
              "</div>"
            ],
            "text/plain": [
              "   SLNO  Candidate.Ref DOJ.Extended  Duration.to.accept.offer  Notice.period  \\\n",
              "0     1        2110407          Yes                        14             30   \n",
              "1     2        2112635           No                        18             30   \n",
              "2     3        2112838           No                         3             45   \n",
              "3     4        2115021           No                        26             30   \n",
              "4     5        2115125          Yes                         1            120   \n",
              "\n",
              "  Offered.band  Pecent.hike.expected.in.CTC  Percent.hike.offered.in.CTC  \\\n",
              "0           E2                       -20.79                        13.16   \n",
              "1           E2                        50.00                       320.00   \n",
              "2           E2                        42.84                        42.84   \n",
              "3           E2                        42.84                        42.84   \n",
              "4           E2                        42.59                        42.59   \n",
              "\n",
              "   Percent.difference.CTC Joining.Bonus Candidate.relocate.actual  Gender  \\\n",
              "0                   42.86            No                        No  Female   \n",
              "1                  180.00            No                        No    Male   \n",
              "2                    0.00            No                        No    Male   \n",
              "3                    0.00            No                        No    Male   \n",
              "4                    0.00            No                       Yes    Male   \n",
              "\n",
              "    Candidate.Source  Rex.in.Yrs    LOB Location  Age  Status  \n",
              "0             Agency           7    ERS    Noida   34  Joined  \n",
              "1  Employee Referral           8  INFRA  Chennai   34  Joined  \n",
              "2             Agency           4  INFRA    Noida   27  Joined  \n",
              "3  Employee Referral           4  INFRA    Noida   34  Joined  \n",
              "4  Employee Referral           6  INFRA    Noida   34  Joined  "
            ]
          },
          "execution_count": 4,
          "metadata": {},
          "output_type": "execute_result"
        }
      ],
      "source": [
        "#Display first 5 rows\n",
        "df.head()"
      ]
    },
    {
      "cell_type": "code",
      "execution_count": 5,
      "metadata": {
        "colab": {
          "base_uri": "https://localhost:8080/"
        },
        "id": "Z_PMCw-NPCQT",
        "outputId": "9721c739-cccc-4607-b845-ac4d8e7d9a67"
      },
      "outputs": [
        {
          "data": {
            "text/plain": [
              "(8995, 18)"
            ]
          },
          "execution_count": 5,
          "metadata": {},
          "output_type": "execute_result"
        }
      ],
      "source": [
        "#Checking shape\n",
        "df.shape"
      ]
    },
    {
      "cell_type": "code",
      "execution_count": 6,
      "metadata": {
        "colab": {
          "base_uri": "https://localhost:8080/"
        },
        "id": "MeXBcVDFQrH_",
        "outputId": "b2b78ce9-add4-42e8-a917-7ec17f9ddec7"
      },
      "outputs": [
        {
          "data": {
            "text/plain": [
              "SLNO                           0\n",
              "Candidate.Ref                  0\n",
              "DOJ.Extended                   0\n",
              "Duration.to.accept.offer       0\n",
              "Notice.period                  0\n",
              "Offered.band                   0\n",
              "Pecent.hike.expected.in.CTC    0\n",
              "Percent.hike.offered.in.CTC    0\n",
              "Percent.difference.CTC         0\n",
              "Joining.Bonus                  0\n",
              "Candidate.relocate.actual      0\n",
              "Gender                         0\n",
              "Candidate.Source               0\n",
              "Rex.in.Yrs                     0\n",
              "LOB                            0\n",
              "Location                       0\n",
              "Age                            0\n",
              "Status                         0\n",
              "dtype: int64"
            ]
          },
          "execution_count": 6,
          "metadata": {},
          "output_type": "execute_result"
        }
      ],
      "source": [
        "#Checking for nan values\n",
        "df.isnull().sum()"
      ]
    },
    {
      "cell_type": "code",
      "execution_count": 7,
      "metadata": {
        "colab": {
          "base_uri": "https://localhost:8080/"
        },
        "id": "izZe-BjkQ4hv",
        "outputId": "10f93072-fe32-4090-bd52-952195f29326"
      },
      "outputs": [
        {
          "data": {
            "text/plain": [
              "SLNO                             int64\n",
              "Candidate.Ref                    int64\n",
              "DOJ.Extended                    object\n",
              "Duration.to.accept.offer         int64\n",
              "Notice.period                    int64\n",
              "Offered.band                    object\n",
              "Pecent.hike.expected.in.CTC    float64\n",
              "Percent.hike.offered.in.CTC    float64\n",
              "Percent.difference.CTC         float64\n",
              "Joining.Bonus                   object\n",
              "Candidate.relocate.actual       object\n",
              "Gender                          object\n",
              "Candidate.Source                object\n",
              "Rex.in.Yrs                       int64\n",
              "LOB                             object\n",
              "Location                        object\n",
              "Age                              int64\n",
              "Status                          object\n",
              "dtype: object"
            ]
          },
          "execution_count": 7,
          "metadata": {},
          "output_type": "execute_result"
        }
      ],
      "source": [
        "#Cheking dtype of each attribute\n",
        "df.dtypes"
      ]
    },
    {
      "cell_type": "code",
      "execution_count": 8,
      "metadata": {
        "colab": {
          "base_uri": "https://localhost:8080/"
        },
        "id": "mQtS6FvWeA_n",
        "outputId": "620e70a9-e27f-4174-84bd-001299586f9d"
      },
      "outputs": [
        {
          "data": {
            "text/plain": [
              "Index(['SLNO', 'Candidate.Ref', 'DOJ.Extended', 'Duration.to.accept.offer',\n",
              "       'Notice.period', 'Offered.band', 'Pecent.hike.expected.in.CTC',\n",
              "       'Percent.hike.offered.in.CTC', 'Percent.difference.CTC',\n",
              "       'Joining.Bonus', 'Candidate.relocate.actual', 'Gender',\n",
              "       'Candidate.Source', 'Rex.in.Yrs', 'LOB', 'Location', 'Age', 'Status'],\n",
              "      dtype='object')"
            ]
          },
          "execution_count": 8,
          "metadata": {},
          "output_type": "execute_result"
        }
      ],
      "source": [
        "# Display columns\n",
        "df.columns"
      ]
    },
    {
      "cell_type": "code",
      "execution_count": 9,
      "metadata": {
        "id": "5r0NsQF0xkuT"
      },
      "outputs": [],
      "source": [
        "#Renaming the column names\n",
        "df = df.rename(columns={'Candidate.Ref':'Candidate_ref', 'DOJ.Extended':'DOJ_extended', 'Duration.to.accept.offer':'Accept_duration',\n",
        "       'Notice.period':'Notice_period', 'Offered.band':'Offered_band', 'Pecent.hike.expected.in.CTC':'Percent_hike_expected',\n",
        "       'Percent.hike.offered.in.CTC':'Percent_hike_offered', 'Percent.difference.CTC':'Percent_difference',\n",
        "       'Joining.Bonus':'Joining_Bonus', 'Candidate.relocate.actual':'Relocated','Candidate.Source':'Source','Rex.in.Yrs':'Rex'})"
      ]
    },
    {
      "cell_type": "code",
      "execution_count": 10,
      "metadata": {
        "colab": {
          "base_uri": "https://localhost:8080/"
        },
        "id": "vIkQoQVczAcG",
        "outputId": "d7e83065-8cfe-4d7e-b778-68fed9c3aabc"
      },
      "outputs": [
        {
          "data": {
            "text/plain": [
              "Index(['SLNO', 'Candidate_ref', 'DOJ_extended', 'Accept_duration',\n",
              "       'Notice_period', 'Offered_band', 'Percent_hike_expected',\n",
              "       'Percent_hike_offered', 'Percent_difference', 'Joining_Bonus',\n",
              "       'Relocated', 'Gender', 'Source', 'Rex', 'LOB', 'Location', 'Age',\n",
              "       'Status'],\n",
              "      dtype='object')"
            ]
          },
          "execution_count": 10,
          "metadata": {},
          "output_type": "execute_result"
        }
      ],
      "source": [
        "df.columns"
      ]
    },
    {
      "cell_type": "code",
      "execution_count": 11,
      "metadata": {
        "id": "WJeuT6WDeO2b"
      },
      "outputs": [],
      "source": [
        "#Rearranging Columns names\n",
        "df = df[['SLNO', 'Candidate_ref', 'Accept_duration','Notice_period','Percent_hike_expected',\n",
        "         'Percent_hike_offered', 'Percent_difference','Rex','Age','DOJ_extended','Offered_band'\n",
        "         ,'Joining_Bonus', 'Relocated', 'Gender','Source', 'LOB', 'Location','Status']]"
      ]
    },
    {
      "cell_type": "code",
      "execution_count": 12,
      "metadata": {
        "colab": {
          "base_uri": "https://localhost:8080/",
          "height": 278
        },
        "id": "o8eEY73Vi6LD",
        "outputId": "40d43e3e-e9e5-48ba-8536-3831765ebae5"
      },
      "outputs": [
        {
          "data": {
            "text/html": [
              "<div>\n",
              "<style scoped>\n",
              "    .dataframe tbody tr th:only-of-type {\n",
              "        vertical-align: middle;\n",
              "    }\n",
              "\n",
              "    .dataframe tbody tr th {\n",
              "        vertical-align: top;\n",
              "    }\n",
              "\n",
              "    .dataframe thead th {\n",
              "        text-align: right;\n",
              "    }\n",
              "</style>\n",
              "<table border=\"1\" class=\"dataframe\">\n",
              "  <thead>\n",
              "    <tr style=\"text-align: right;\">\n",
              "      <th></th>\n",
              "      <th>SLNO</th>\n",
              "      <th>Candidate_ref</th>\n",
              "      <th>Accept_duration</th>\n",
              "      <th>Notice_period</th>\n",
              "      <th>Percent_hike_expected</th>\n",
              "      <th>Percent_hike_offered</th>\n",
              "      <th>Percent_difference</th>\n",
              "      <th>Rex</th>\n",
              "      <th>Age</th>\n",
              "      <th>DOJ_extended</th>\n",
              "      <th>Offered_band</th>\n",
              "      <th>Joining_Bonus</th>\n",
              "      <th>Relocated</th>\n",
              "      <th>Gender</th>\n",
              "      <th>Source</th>\n",
              "      <th>LOB</th>\n",
              "      <th>Location</th>\n",
              "      <th>Status</th>\n",
              "    </tr>\n",
              "  </thead>\n",
              "  <tbody>\n",
              "    <tr>\n",
              "      <th>0</th>\n",
              "      <td>1</td>\n",
              "      <td>2110407</td>\n",
              "      <td>14</td>\n",
              "      <td>30</td>\n",
              "      <td>-20.79</td>\n",
              "      <td>13.16</td>\n",
              "      <td>42.86</td>\n",
              "      <td>7</td>\n",
              "      <td>34</td>\n",
              "      <td>Yes</td>\n",
              "      <td>E2</td>\n",
              "      <td>No</td>\n",
              "      <td>No</td>\n",
              "      <td>Female</td>\n",
              "      <td>Agency</td>\n",
              "      <td>ERS</td>\n",
              "      <td>Noida</td>\n",
              "      <td>Joined</td>\n",
              "    </tr>\n",
              "    <tr>\n",
              "      <th>1</th>\n",
              "      <td>2</td>\n",
              "      <td>2112635</td>\n",
              "      <td>18</td>\n",
              "      <td>30</td>\n",
              "      <td>50.00</td>\n",
              "      <td>320.00</td>\n",
              "      <td>180.00</td>\n",
              "      <td>8</td>\n",
              "      <td>34</td>\n",
              "      <td>No</td>\n",
              "      <td>E2</td>\n",
              "      <td>No</td>\n",
              "      <td>No</td>\n",
              "      <td>Male</td>\n",
              "      <td>Employee Referral</td>\n",
              "      <td>INFRA</td>\n",
              "      <td>Chennai</td>\n",
              "      <td>Joined</td>\n",
              "    </tr>\n",
              "    <tr>\n",
              "      <th>2</th>\n",
              "      <td>3</td>\n",
              "      <td>2112838</td>\n",
              "      <td>3</td>\n",
              "      <td>45</td>\n",
              "      <td>42.84</td>\n",
              "      <td>42.84</td>\n",
              "      <td>0.00</td>\n",
              "      <td>4</td>\n",
              "      <td>27</td>\n",
              "      <td>No</td>\n",
              "      <td>E2</td>\n",
              "      <td>No</td>\n",
              "      <td>No</td>\n",
              "      <td>Male</td>\n",
              "      <td>Agency</td>\n",
              "      <td>INFRA</td>\n",
              "      <td>Noida</td>\n",
              "      <td>Joined</td>\n",
              "    </tr>\n",
              "    <tr>\n",
              "      <th>3</th>\n",
              "      <td>4</td>\n",
              "      <td>2115021</td>\n",
              "      <td>26</td>\n",
              "      <td>30</td>\n",
              "      <td>42.84</td>\n",
              "      <td>42.84</td>\n",
              "      <td>0.00</td>\n",
              "      <td>4</td>\n",
              "      <td>34</td>\n",
              "      <td>No</td>\n",
              "      <td>E2</td>\n",
              "      <td>No</td>\n",
              "      <td>No</td>\n",
              "      <td>Male</td>\n",
              "      <td>Employee Referral</td>\n",
              "      <td>INFRA</td>\n",
              "      <td>Noida</td>\n",
              "      <td>Joined</td>\n",
              "    </tr>\n",
              "    <tr>\n",
              "      <th>4</th>\n",
              "      <td>5</td>\n",
              "      <td>2115125</td>\n",
              "      <td>1</td>\n",
              "      <td>120</td>\n",
              "      <td>42.59</td>\n",
              "      <td>42.59</td>\n",
              "      <td>0.00</td>\n",
              "      <td>6</td>\n",
              "      <td>34</td>\n",
              "      <td>Yes</td>\n",
              "      <td>E2</td>\n",
              "      <td>No</td>\n",
              "      <td>Yes</td>\n",
              "      <td>Male</td>\n",
              "      <td>Employee Referral</td>\n",
              "      <td>INFRA</td>\n",
              "      <td>Noida</td>\n",
              "      <td>Joined</td>\n",
              "    </tr>\n",
              "  </tbody>\n",
              "</table>\n",
              "</div>"
            ],
            "text/plain": [
              "   SLNO  Candidate_ref  Accept_duration  Notice_period  Percent_hike_expected  \\\n",
              "0     1        2110407               14             30                 -20.79   \n",
              "1     2        2112635               18             30                  50.00   \n",
              "2     3        2112838                3             45                  42.84   \n",
              "3     4        2115021               26             30                  42.84   \n",
              "4     5        2115125                1            120                  42.59   \n",
              "\n",
              "   Percent_hike_offered  Percent_difference  Rex  Age DOJ_extended  \\\n",
              "0                 13.16               42.86    7   34          Yes   \n",
              "1                320.00              180.00    8   34           No   \n",
              "2                 42.84                0.00    4   27           No   \n",
              "3                 42.84                0.00    4   34           No   \n",
              "4                 42.59                0.00    6   34          Yes   \n",
              "\n",
              "  Offered_band Joining_Bonus Relocated  Gender             Source    LOB  \\\n",
              "0           E2            No        No  Female             Agency    ERS   \n",
              "1           E2            No        No    Male  Employee Referral  INFRA   \n",
              "2           E2            No        No    Male             Agency  INFRA   \n",
              "3           E2            No        No    Male  Employee Referral  INFRA   \n",
              "4           E2            No       Yes    Male  Employee Referral  INFRA   \n",
              "\n",
              "  Location  Status  \n",
              "0    Noida  Joined  \n",
              "1  Chennai  Joined  \n",
              "2    Noida  Joined  \n",
              "3    Noida  Joined  \n",
              "4    Noida  Joined  "
            ]
          },
          "execution_count": 12,
          "metadata": {},
          "output_type": "execute_result"
        }
      ],
      "source": [
        "df.head()"
      ]
    },
    {
      "cell_type": "code",
      "execution_count": 13,
      "metadata": {
        "id": "0qDVmZeak-i2"
      },
      "outputs": [],
      "source": [
        "#Copying the df to df1\n",
        "df1 = df.copy()"
      ]
    },
    {
      "cell_type": "code",
      "execution_count": 15,
      "metadata": {
        "id": "0Y66LGi4lEE9"
      },
      "outputs": [],
      "source": [
        "#Dropping SLNO which is just like an Index\n",
        "df1.drop('SLNO',axis=1,inplace=True)"
      ]
    },
    {
      "cell_type": "code",
      "execution_count": 16,
      "metadata": {
        "colab": {
          "base_uri": "https://localhost:8080/",
          "height": 278
        },
        "id": "mGHUczyVlT82",
        "outputId": "0b1901e1-6cc9-4566-e60f-7764108cec05"
      },
      "outputs": [
        {
          "data": {
            "text/html": [
              "<div>\n",
              "<style scoped>\n",
              "    .dataframe tbody tr th:only-of-type {\n",
              "        vertical-align: middle;\n",
              "    }\n",
              "\n",
              "    .dataframe tbody tr th {\n",
              "        vertical-align: top;\n",
              "    }\n",
              "\n",
              "    .dataframe thead th {\n",
              "        text-align: right;\n",
              "    }\n",
              "</style>\n",
              "<table border=\"1\" class=\"dataframe\">\n",
              "  <thead>\n",
              "    <tr style=\"text-align: right;\">\n",
              "      <th></th>\n",
              "      <th>Candidate_ref</th>\n",
              "      <th>Accept_duration</th>\n",
              "      <th>Notice_period</th>\n",
              "      <th>Percent_hike_expected</th>\n",
              "      <th>Percent_hike_offered</th>\n",
              "      <th>Percent_difference</th>\n",
              "      <th>Rex</th>\n",
              "      <th>Age</th>\n",
              "      <th>DOJ_extended</th>\n",
              "      <th>Offered_band</th>\n",
              "      <th>Joining_Bonus</th>\n",
              "      <th>Relocated</th>\n",
              "      <th>Gender</th>\n",
              "      <th>Source</th>\n",
              "      <th>LOB</th>\n",
              "      <th>Location</th>\n",
              "      <th>Status</th>\n",
              "    </tr>\n",
              "  </thead>\n",
              "  <tbody>\n",
              "    <tr>\n",
              "      <th>0</th>\n",
              "      <td>2110407</td>\n",
              "      <td>14</td>\n",
              "      <td>30</td>\n",
              "      <td>-20.79</td>\n",
              "      <td>13.16</td>\n",
              "      <td>42.86</td>\n",
              "      <td>7</td>\n",
              "      <td>34</td>\n",
              "      <td>Yes</td>\n",
              "      <td>E2</td>\n",
              "      <td>No</td>\n",
              "      <td>No</td>\n",
              "      <td>Female</td>\n",
              "      <td>Agency</td>\n",
              "      <td>ERS</td>\n",
              "      <td>Noida</td>\n",
              "      <td>Joined</td>\n",
              "    </tr>\n",
              "    <tr>\n",
              "      <th>1</th>\n",
              "      <td>2112635</td>\n",
              "      <td>18</td>\n",
              "      <td>30</td>\n",
              "      <td>50.00</td>\n",
              "      <td>320.00</td>\n",
              "      <td>180.00</td>\n",
              "      <td>8</td>\n",
              "      <td>34</td>\n",
              "      <td>No</td>\n",
              "      <td>E2</td>\n",
              "      <td>No</td>\n",
              "      <td>No</td>\n",
              "      <td>Male</td>\n",
              "      <td>Employee Referral</td>\n",
              "      <td>INFRA</td>\n",
              "      <td>Chennai</td>\n",
              "      <td>Joined</td>\n",
              "    </tr>\n",
              "    <tr>\n",
              "      <th>2</th>\n",
              "      <td>2112838</td>\n",
              "      <td>3</td>\n",
              "      <td>45</td>\n",
              "      <td>42.84</td>\n",
              "      <td>42.84</td>\n",
              "      <td>0.00</td>\n",
              "      <td>4</td>\n",
              "      <td>27</td>\n",
              "      <td>No</td>\n",
              "      <td>E2</td>\n",
              "      <td>No</td>\n",
              "      <td>No</td>\n",
              "      <td>Male</td>\n",
              "      <td>Agency</td>\n",
              "      <td>INFRA</td>\n",
              "      <td>Noida</td>\n",
              "      <td>Joined</td>\n",
              "    </tr>\n",
              "    <tr>\n",
              "      <th>3</th>\n",
              "      <td>2115021</td>\n",
              "      <td>26</td>\n",
              "      <td>30</td>\n",
              "      <td>42.84</td>\n",
              "      <td>42.84</td>\n",
              "      <td>0.00</td>\n",
              "      <td>4</td>\n",
              "      <td>34</td>\n",
              "      <td>No</td>\n",
              "      <td>E2</td>\n",
              "      <td>No</td>\n",
              "      <td>No</td>\n",
              "      <td>Male</td>\n",
              "      <td>Employee Referral</td>\n",
              "      <td>INFRA</td>\n",
              "      <td>Noida</td>\n",
              "      <td>Joined</td>\n",
              "    </tr>\n",
              "    <tr>\n",
              "      <th>4</th>\n",
              "      <td>2115125</td>\n",
              "      <td>1</td>\n",
              "      <td>120</td>\n",
              "      <td>42.59</td>\n",
              "      <td>42.59</td>\n",
              "      <td>0.00</td>\n",
              "      <td>6</td>\n",
              "      <td>34</td>\n",
              "      <td>Yes</td>\n",
              "      <td>E2</td>\n",
              "      <td>No</td>\n",
              "      <td>Yes</td>\n",
              "      <td>Male</td>\n",
              "      <td>Employee Referral</td>\n",
              "      <td>INFRA</td>\n",
              "      <td>Noida</td>\n",
              "      <td>Joined</td>\n",
              "    </tr>\n",
              "  </tbody>\n",
              "</table>\n",
              "</div>"
            ],
            "text/plain": [
              "   Candidate_ref  Accept_duration  Notice_period  Percent_hike_expected  \\\n",
              "0        2110407               14             30                 -20.79   \n",
              "1        2112635               18             30                  50.00   \n",
              "2        2112838                3             45                  42.84   \n",
              "3        2115021               26             30                  42.84   \n",
              "4        2115125                1            120                  42.59   \n",
              "\n",
              "   Percent_hike_offered  Percent_difference  Rex  Age DOJ_extended  \\\n",
              "0                 13.16               42.86    7   34          Yes   \n",
              "1                320.00              180.00    8   34           No   \n",
              "2                 42.84                0.00    4   27           No   \n",
              "3                 42.84                0.00    4   34           No   \n",
              "4                 42.59                0.00    6   34          Yes   \n",
              "\n",
              "  Offered_band Joining_Bonus Relocated  Gender             Source    LOB  \\\n",
              "0           E2            No        No  Female             Agency    ERS   \n",
              "1           E2            No        No    Male  Employee Referral  INFRA   \n",
              "2           E2            No        No    Male             Agency  INFRA   \n",
              "3           E2            No        No    Male  Employee Referral  INFRA   \n",
              "4           E2            No       Yes    Male  Employee Referral  INFRA   \n",
              "\n",
              "  Location  Status  \n",
              "0    Noida  Joined  \n",
              "1  Chennai  Joined  \n",
              "2    Noida  Joined  \n",
              "3    Noida  Joined  \n",
              "4    Noida  Joined  "
            ]
          },
          "execution_count": 16,
          "metadata": {},
          "output_type": "execute_result"
        }
      ],
      "source": [
        "#Review the first 5 rows\n",
        "df1.head()"
      ]
    },
    {
      "cell_type": "code",
      "execution_count": 17,
      "metadata": {
        "colab": {
          "base_uri": "https://localhost:8080/"
        },
        "id": "_6P7Jghdmv7j",
        "outputId": "cf98834b-ceb2-4a7d-9906-e2ec61660cd9"
      },
      "outputs": [
        {
          "data": {
            "text/plain": [
              "Index(['Candidate_ref', 'Accept_duration', 'Notice_period',\n",
              "       'Percent_hike_expected', 'Percent_hike_offered', 'Percent_difference',\n",
              "       'Rex', 'Age', 'DOJ_extended', 'Offered_band', 'Joining_Bonus',\n",
              "       'Relocated', 'Gender', 'Source', 'LOB', 'Location', 'Status'],\n",
              "      dtype='object')"
            ]
          },
          "execution_count": 17,
          "metadata": {},
          "output_type": "execute_result"
        }
      ],
      "source": [
        "df1.columns"
      ]
    },
    {
      "cell_type": "code",
      "execution_count": 18,
      "metadata": {
        "colab": {
          "base_uri": "https://localhost:8080/"
        },
        "id": "abESCh3l42Au",
        "outputId": "28bdf3de-9082-48c7-c430-07b6a64454a5"
      },
      "outputs": [
        {
          "name": "stdout",
          "output_type": "stream",
          "text": [
            "17\n"
          ]
        }
      ],
      "source": [
        "print(len(df1.columns))"
      ]
    },
    {
      "cell_type": "code",
      "execution_count": 19,
      "metadata": {
        "id": "4_oUPgftm4KZ"
      },
      "outputs": [],
      "source": [
        "#Extracting catgorical varibles\n",
        "cat = ['DOJ_extended','Offered_band', 'Joining_Bonus', 'Relocated',\n",
        "       'Gender','Source', 'LOB', 'Location', 'Status']"
      ]
    },
    {
      "cell_type": "markdown",
      "metadata": {
        "id": "ow6VFMQgjDE2"
      },
      "source": [
        "### Let's Talk with data"
      ]
    },
    {
      "cell_type": "code",
      "execution_count": 20,
      "metadata": {
        "colab": {
          "base_uri": "https://localhost:8080/",
          "height": 1000
        },
        "id": "Rxon6Nodl28g",
        "outputId": "76cd8dab-420d-457d-d52c-f64ef38c9fa8"
      },
      "outputs": [
        {
          "data": {
            "image/png": "[encoded data removed]",
            "text/plain": [
              "<Figure size 1000x1500 with 10 Axes>"
            ]
          },
          "metadata": {},
          "output_type": "display_data"
        }
      ],
      "source": [
        "#Count plot for the catgorical varibles\n",
        "fig=plt.subplots(figsize=(10,15))\n",
        "length = len(cat)\n",
        "\n",
        "for i,j in itertools.zip_longest(cat,range(length)):\n",
        "    plt.subplot(int(np.ceil(length/2)),2,j+1)\n",
        "    plt.subplots_adjust(hspace=.5)\n",
        "    sns.countplot(x=i,data = df1)\n",
        "    plt.xticks(rotation=90)\n",
        "    plt.tight_layout()"
      ]
    },
    {
      "cell_type": "markdown",
      "metadata": {
        "id": "kZ6X5QGqs9To"
      },
      "source": [
        "## Observation from the above plots\n",
        "1. Most of the candidates **didn't ask** for date of joining extension (DOJ).\n",
        "2. Band offered to the candidate based on experience, performance in the interview rounds which is **E1** is most in number.\n",
        "3. Most of the candidates **have not received** any joining bonus.\n",
        "4. Most of the candidates **have not been relocated** to any new city.\n",
        "5. Most of the candidates are **Males**.\n",
        "6. Most of the resumes obtained are **direct** and followed by the **Agency**.\n",
        "7. Line of business(LOB) for which offer was give is more for **INFRA** and followed by **ERS,BFSI** and others.\n",
        "8. **Chennai** is the place where most of the candidates got placed later by **Noida & Bangalore**.\n",
        "9. Most candidates did **Joined** the offered job."
      ]
    },
    {
      "cell_type": "code",
      "execution_count": 21,
      "metadata": {
        "colab": {
          "base_uri": "https://localhost:8080/"
        },
        "id": "EkRCVJyU5rvB",
        "outputId": "013b89c6-6f4e-45c1-d7a7-216efbf6e357"
      },
      "outputs": [
        {
          "data": {
            "text/plain": [
              "Status\n",
              "Joined        7313\n",
              "Not Joined    1682\n",
              "Name: count, dtype: int64"
            ]
          },
          "execution_count": 21,
          "metadata": {},
          "output_type": "execute_result"
        }
      ],
      "source": [
        "#Getting in numbers\n",
        "df1['Status'].value_counts()"
      ]
    },
    {
      "cell_type": "code",
      "execution_count": 22,
      "metadata": {
        "id": "1Vedn0am7ZOi"
      },
      "outputs": [],
      "source": [
        "#Extracting catgorical varibales to list comp\n",
        "comp = ['DOJ_extended','Offered_band','Joining_Bonus','Relocated','Gender','Source','LOB','Location']"
      ]
    },
    {
      "cell_type": "code",
      "execution_count": 23,
      "metadata": {
        "colab": {
          "base_uri": "https://localhost:8080/",
          "height": 1000
        },
        "id": "acnQjXyw9-og",
        "outputId": "efc9fdc0-80a2-4825-d949-64119422c59e"
      },
      "outputs": [
        {
          "data": {
            "image/png": "[encoded data removed]",
            "text/plain": [
              "<Figure size 1000x1500 with 9 Axes>"
            ]
          },
          "metadata": {},
          "output_type": "display_data"
        }
      ],
      "source": [
        "fig=plt.subplots(figsize=(10,15))\n",
        "# length = len(comp)\n",
        "length = len(comp)\n",
        "for i,j in itertools.zip_longest(comp,range(length)):\n",
        "    plt.subplot(int(np.ceil(length/2)),2,j+1)\n",
        "    plt.subplots_adjust(hspace=.5)\n",
        "    sns.countplot(x=i,data = df1,hue='Status') #Coutning with respect to joining Status\n",
        "    plt.xticks(rotation=90)\n",
        "    plt.tight_layout()"
      ]
    },
    {
      "cell_type": "markdown",
      "metadata": {
        "id": "E4m4r7d__HKd"
      },
      "source": [
        "From the above observations we can observe most of candidates choose to join the job offered rather than the rejecting it."
      ]
    },
    {
      "cell_type": "code",
      "execution_count": 24,
      "metadata": {
        "colab": {
          "base_uri": "https://localhost:8080/",
          "height": 300
        },
        "id": "OgS7Ag9aKeGN",
        "outputId": "b1df09b9-6d73-4cbf-8c03-519b39ebba98"
      },
      "outputs": [
        {
          "data": {
            "text/html": [
              "<div>\n",
              "<style scoped>\n",
              "    .dataframe tbody tr th:only-of-type {\n",
              "        vertical-align: middle;\n",
              "    }\n",
              "\n",
              "    .dataframe tbody tr th {\n",
              "        vertical-align: top;\n",
              "    }\n",
              "\n",
              "    .dataframe thead th {\n",
              "        text-align: right;\n",
              "    }\n",
              "</style>\n",
              "<table border=\"1\" class=\"dataframe\">\n",
              "  <thead>\n",
              "    <tr style=\"text-align: right;\">\n",
              "      <th></th>\n",
              "      <th>count</th>\n",
              "      <th>mean</th>\n",
              "      <th>std</th>\n",
              "      <th>min</th>\n",
              "      <th>25%</th>\n",
              "      <th>50%</th>\n",
              "      <th>75%</th>\n",
              "      <th>max</th>\n",
              "    </tr>\n",
              "  </thead>\n",
              "  <tbody>\n",
              "    <tr>\n",
              "      <th>Candidate_ref</th>\n",
              "      <td>8995.0</td>\n",
              "      <td>2.843647e+06</td>\n",
              "      <td>486344.774552</td>\n",
              "      <td>2109586.00</td>\n",
              "      <td>2386476.00</td>\n",
              "      <td>2807482.0</td>\n",
              "      <td>3300059.50</td>\n",
              "      <td>3836076.00</td>\n",
              "    </tr>\n",
              "    <tr>\n",
              "      <th>Accept_duration</th>\n",
              "      <td>8995.0</td>\n",
              "      <td>2.143446e+01</td>\n",
              "      <td>25.811616</td>\n",
              "      <td>0.00</td>\n",
              "      <td>3.00</td>\n",
              "      <td>10.0</td>\n",
              "      <td>33.00</td>\n",
              "      <td>224.00</td>\n",
              "    </tr>\n",
              "    <tr>\n",
              "      <th>Notice_period</th>\n",
              "      <td>8995.0</td>\n",
              "      <td>3.929183e+01</td>\n",
              "      <td>22.220239</td>\n",
              "      <td>0.00</td>\n",
              "      <td>30.00</td>\n",
              "      <td>30.0</td>\n",
              "      <td>60.00</td>\n",
              "      <td>120.00</td>\n",
              "    </tr>\n",
              "    <tr>\n",
              "      <th>Percent_hike_expected</th>\n",
              "      <td>8995.0</td>\n",
              "      <td>4.386480e+01</td>\n",
              "      <td>29.788975</td>\n",
              "      <td>-68.83</td>\n",
              "      <td>27.27</td>\n",
              "      <td>40.0</td>\n",
              "      <td>53.85</td>\n",
              "      <td>359.77</td>\n",
              "    </tr>\n",
              "    <tr>\n",
              "      <th>Percent_hike_offered</th>\n",
              "      <td>8995.0</td>\n",
              "      <td>4.065736e+01</td>\n",
              "      <td>36.064060</td>\n",
              "      <td>-60.53</td>\n",
              "      <td>22.09</td>\n",
              "      <td>36.0</td>\n",
              "      <td>50.00</td>\n",
              "      <td>471.43</td>\n",
              "    </tr>\n",
              "    <tr>\n",
              "      <th>Percent_difference</th>\n",
              "      <td>8995.0</td>\n",
              "      <td>-1.573802e+00</td>\n",
              "      <td>19.610729</td>\n",
              "      <td>-67.27</td>\n",
              "      <td>-8.33</td>\n",
              "      <td>0.0</td>\n",
              "      <td>0.00</td>\n",
              "      <td>300.00</td>\n",
              "    </tr>\n",
              "    <tr>\n",
              "      <th>Rex</th>\n",
              "      <td>8995.0</td>\n",
              "      <td>4.239022e+00</td>\n",
              "      <td>2.547571</td>\n",
              "      <td>0.00</td>\n",
              "      <td>3.00</td>\n",
              "      <td>4.0</td>\n",
              "      <td>6.00</td>\n",
              "      <td>24.00</td>\n",
              "    </tr>\n",
              "    <tr>\n",
              "      <th>Age</th>\n",
              "      <td>8995.0</td>\n",
              "      <td>2.991317e+01</td>\n",
              "      <td>4.097912</td>\n",
              "      <td>20.00</td>\n",
              "      <td>27.00</td>\n",
              "      <td>29.0</td>\n",
              "      <td>34.00</td>\n",
              "      <td>60.00</td>\n",
              "    </tr>\n",
              "  </tbody>\n",
              "</table>\n",
              "</div>"
            ],
            "text/plain": [
              "                        count          mean            std         min  \\\n",
              "Candidate_ref          8995.0  2.843647e+06  486344.774552  2109586.00   \n",
              "Accept_duration        8995.0  2.143446e+01      25.811616        0.00   \n",
              "Notice_period          8995.0  3.929183e+01      22.220239        0.00   \n",
              "Percent_hike_expected  8995.0  4.386480e+01      29.788975      -68.83   \n",
              "Percent_hike_offered   8995.0  4.065736e+01      36.064060      -60.53   \n",
              "Percent_difference     8995.0 -1.573802e+00      19.610729      -67.27   \n",
              "Rex                    8995.0  4.239022e+00       2.547571        0.00   \n",
              "Age                    8995.0  2.991317e+01       4.097912       20.00   \n",
              "\n",
              "                              25%        50%         75%         max  \n",
              "Candidate_ref          2386476.00  2807482.0  3300059.50  3836076.00  \n",
              "Accept_duration              3.00       10.0       33.00      224.00  \n",
              "Notice_period               30.00       30.0       60.00      120.00  \n",
              "Percent_hike_expected       27.27       40.0       53.85      359.77  \n",
              "Percent_hike_offered        22.09       36.0       50.00      471.43  \n",
              "Percent_difference          -8.33        0.0        0.00      300.00  \n",
              "Rex                          3.00        4.0        6.00       24.00  \n",
              "Age                         27.00       29.0       34.00       60.00  "
            ]
          },
          "execution_count": 24,
          "metadata": {},
          "output_type": "execute_result"
        }
      ],
      "source": [
        "#Statstical Info\n",
        "df1.describe().T"
      ]
    },
    {
      "cell_type": "code",
      "execution_count": 26,
      "metadata": {
        "id": "wW97P7yVO1Um"
      },
      "outputs": [],
      "source": [
        "#Dropping the \"Candidate_ref\" because it is just a unique id given to candidate like random genrated index ID\n",
        "df1.drop('Candidate_ref',axis=1,inplace=True)"
      ]
    },
    {
      "cell_type": "code",
      "execution_count": 27,
      "metadata": {
        "colab": {
          "base_uri": "https://localhost:8080/",
          "height": 278
        },
        "id": "JZPFPBQMQfpc",
        "outputId": "88c1e916-bf02-4be4-e105-2dea2c542509"
      },
      "outputs": [
        {
          "data": {
            "text/html": [
              "<div>\n",
              "<style scoped>\n",
              "    .dataframe tbody tr th:only-of-type {\n",
              "        vertical-align: middle;\n",
              "    }\n",
              "\n",
              "    .dataframe tbody tr th {\n",
              "        vertical-align: top;\n",
              "    }\n",
              "\n",
              "    .dataframe thead th {\n",
              "        text-align: right;\n",
              "    }\n",
              "</style>\n",
              "<table border=\"1\" class=\"dataframe\">\n",
              "  <thead>\n",
              "    <tr style=\"text-align: right;\">\n",
              "      <th></th>\n",
              "      <th>Accept_duration</th>\n",
              "      <th>Notice_period</th>\n",
              "      <th>Percent_hike_expected</th>\n",
              "      <th>Percent_hike_offered</th>\n",
              "      <th>Percent_difference</th>\n",
              "      <th>Rex</th>\n",
              "      <th>Age</th>\n",
              "      <th>DOJ_extended</th>\n",
              "      <th>Offered_band</th>\n",
              "      <th>Joining_Bonus</th>\n",
              "      <th>Relocated</th>\n",
              "      <th>Gender</th>\n",
              "      <th>Source</th>\n",
              "      <th>LOB</th>\n",
              "      <th>Location</th>\n",
              "      <th>Status</th>\n",
              "    </tr>\n",
              "  </thead>\n",
              "  <tbody>\n",
              "    <tr>\n",
              "      <th>0</th>\n",
              "      <td>14</td>\n",
              "      <td>30</td>\n",
              "      <td>-20.79</td>\n",
              "      <td>13.16</td>\n",
              "      <td>42.86</td>\n",
              "      <td>7</td>\n",
              "      <td>34</td>\n",
              "      <td>Yes</td>\n",
              "      <td>E2</td>\n",
              "      <td>No</td>\n",
              "      <td>No</td>\n",
              "      <td>Female</td>\n",
              "      <td>Agency</td>\n",
              "      <td>ERS</td>\n",
              "      <td>Noida</td>\n",
              "      <td>Joined</td>\n",
              "    </tr>\n",
              "    <tr>\n",
              "      <th>1</th>\n",
              "      <td>18</td>\n",
              "      <td>30</td>\n",
              "      <td>50.00</td>\n",
              "      <td>320.00</td>\n",
              "      <td>180.00</td>\n",
              "      <td>8</td>\n",
              "      <td>34</td>\n",
              "      <td>No</td>\n",
              "      <td>E2</td>\n",
              "      <td>No</td>\n",
              "      <td>No</td>\n",
              "      <td>Male</td>\n",
              "      <td>Employee Referral</td>\n",
              "      <td>INFRA</td>\n",
              "      <td>Chennai</td>\n",
              "      <td>Joined</td>\n",
              "    </tr>\n",
              "    <tr>\n",
              "      <th>2</th>\n",
              "      <td>3</td>\n",
              "      <td>45</td>\n",
              "      <td>42.84</td>\n",
              "      <td>42.84</td>\n",
              "      <td>0.00</td>\n",
              "      <td>4</td>\n",
              "      <td>27</td>\n",
              "      <td>No</td>\n",
              "      <td>E2</td>\n",
              "      <td>No</td>\n",
              "      <td>No</td>\n",
              "      <td>Male</td>\n",
              "      <td>Agency</td>\n",
              "      <td>INFRA</td>\n",
              "      <td>Noida</td>\n",
              "      <td>Joined</td>\n",
              "    </tr>\n",
              "    <tr>\n",
              "      <th>3</th>\n",
              "      <td>26</td>\n",
              "      <td>30</td>\n",
              "      <td>42.84</td>\n",
              "      <td>42.84</td>\n",
              "      <td>0.00</td>\n",
              "      <td>4</td>\n",
              "      <td>34</td>\n",
              "      <td>No</td>\n",
              "      <td>E2</td>\n",
              "      <td>No</td>\n",
              "      <td>No</td>\n",
              "      <td>Male</td>\n",
              "      <td>Employee Referral</td>\n",
              "      <td>INFRA</td>\n",
              "      <td>Noida</td>\n",
              "      <td>Joined</td>\n",
              "    </tr>\n",
              "    <tr>\n",
              "      <th>4</th>\n",
              "      <td>1</td>\n",
              "      <td>120</td>\n",
              "      <td>42.59</td>\n",
              "      <td>42.59</td>\n",
              "      <td>0.00</td>\n",
              "      <td>6</td>\n",
              "      <td>34</td>\n",
              "      <td>Yes</td>\n",
              "      <td>E2</td>\n",
              "      <td>No</td>\n",
              "      <td>Yes</td>\n",
              "      <td>Male</td>\n",
              "      <td>Employee Referral</td>\n",
              "      <td>INFRA</td>\n",
              "      <td>Noida</td>\n",
              "      <td>Joined</td>\n",
              "    </tr>\n",
              "  </tbody>\n",
              "</table>\n",
              "</div>"
            ],
            "text/plain": [
              "   Accept_duration  Notice_period  Percent_hike_expected  \\\n",
              "0               14             30                 -20.79   \n",
              "1               18             30                  50.00   \n",
              "2                3             45                  42.84   \n",
              "3               26             30                  42.84   \n",
              "4                1            120                  42.59   \n",
              "\n",
              "   Percent_hike_offered  Percent_difference  Rex  Age DOJ_extended  \\\n",
              "0                 13.16               42.86    7   34          Yes   \n",
              "1                320.00              180.00    8   34           No   \n",
              "2                 42.84                0.00    4   27           No   \n",
              "3                 42.84                0.00    4   34           No   \n",
              "4                 42.59                0.00    6   34          Yes   \n",
              "\n",
              "  Offered_band Joining_Bonus Relocated  Gender             Source    LOB  \\\n",
              "0           E2            No        No  Female             Agency    ERS   \n",
              "1           E2            No        No    Male  Employee Referral  INFRA   \n",
              "2           E2            No        No    Male             Agency  INFRA   \n",
              "3           E2            No        No    Male  Employee Referral  INFRA   \n",
              "4           E2            No       Yes    Male  Employee Referral  INFRA   \n",
              "\n",
              "  Location  Status  \n",
              "0    Noida  Joined  \n",
              "1  Chennai  Joined  \n",
              "2    Noida  Joined  \n",
              "3    Noida  Joined  \n",
              "4    Noida  Joined  "
            ]
          },
          "execution_count": 27,
          "metadata": {},
          "output_type": "execute_result"
        }
      ],
      "source": [
        "#Head\n",
        "df1.head()"
      ]
    },
    {
      "cell_type": "code",
      "execution_count": 30,
      "metadata": {
        "colab": {
          "base_uri": "https://localhost:8080/",
          "height": 473
        },
        "id": "nK8L46iURD2W",
        "outputId": "ec0492f8-564d-4c06-aeb2-c41473248b31"
      },
      "outputs": [
        {
          "data": {
            "image/png": "[encoded data removed]",
            "text/plain": [
              "<Figure size 1500x500 with 2 Axes>"
            ]
          },
          "metadata": {},
          "output_type": "display_data"
        }
      ],
      "source": [
        "# #Corelationship plot\n",
        "# fig,ax=plt.subplots(figsize=(15,5))\n",
        "# mask = np.zeros_like(df1.corr())\n",
        "# mask[np.triu_indices_from(df1.corr())] = True\n",
        "# sns.heatmap(df1.corr(),cmap='Set2',annot=True,mask=mask,ax=ax)\n",
        "# plt.title('Correlation Plot')\n",
        "# plt.show()\n",
        "import matplotlib.pyplot as plt\n",
        "import seaborn as sns\n",
        "import numpy as np\n",
        "\n",
        "# Select only numeric columns\n",
        "numeric_df = df1.select_dtypes(include=['number'])\n",
        "\n",
        "fig, ax = plt.subplots(figsize=(15, 5))\n",
        "mask = np.zeros_like(numeric_df.corr())\n",
        "mask[np.triu_indices_from(numeric_df.corr())] = True\n",
        "sns.heatmap(numeric_df.corr(), cmap='Set2', annot=True, mask=mask, ax=ax)\n",
        "plt.title('Correlation Plot')\n",
        "plt.show()\n"
      ]
    },
    {
      "cell_type": "markdown",
      "metadata": {
        "id": "hzgOXJ4DfN2x"
      },
      "source": [
        "We can see some relationship between the\n",
        "> **Percent_hike_offered & Percent_hike_excpected**\n",
        "\n",
        "> **Percent_difference & Percent_hike_offered**\n",
        "\n",
        "> **Age & Rex**\n",
        "\n",
        "\n",
        "\n"
      ]
    },
    {
      "cell_type": "code",
      "execution_count": 31,
      "metadata": {
        "colab": {
          "base_uri": "https://localhost:8080/",
          "height": 278
        },
        "id": "m4LWUuDy1uHN",
        "outputId": "11bd9a81-9684-4f0f-ccac-65cccff1992f"
      },
      "outputs": [
        {
          "data": {
            "text/html": [
              "<div>\n",
              "<style scoped>\n",
              "    .dataframe tbody tr th:only-of-type {\n",
              "        vertical-align: middle;\n",
              "    }\n",
              "\n",
              "    .dataframe tbody tr th {\n",
              "        vertical-align: top;\n",
              "    }\n",
              "\n",
              "    .dataframe thead th {\n",
              "        text-align: right;\n",
              "    }\n",
              "</style>\n",
              "<table border=\"1\" class=\"dataframe\">\n",
              "  <thead>\n",
              "    <tr style=\"text-align: right;\">\n",
              "      <th></th>\n",
              "      <th>Accept_duration</th>\n",
              "      <th>Notice_period</th>\n",
              "      <th>Percent_hike_expected</th>\n",
              "      <th>Percent_hike_offered</th>\n",
              "      <th>Percent_difference</th>\n",
              "      <th>Rex</th>\n",
              "      <th>Age</th>\n",
              "      <th>DOJ_extended</th>\n",
              "      <th>Offered_band</th>\n",
              "      <th>Joining_Bonus</th>\n",
              "      <th>Relocated</th>\n",
              "      <th>Gender</th>\n",
              "      <th>Source</th>\n",
              "      <th>LOB</th>\n",
              "      <th>Location</th>\n",
              "    </tr>\n",
              "  </thead>\n",
              "  <tbody>\n",
              "    <tr>\n",
              "      <th>0</th>\n",
              "      <td>14</td>\n",
              "      <td>30</td>\n",
              "      <td>-20.79</td>\n",
              "      <td>13.16</td>\n",
              "      <td>42.86</td>\n",
              "      <td>7</td>\n",
              "      <td>34</td>\n",
              "      <td>Yes</td>\n",
              "      <td>E2</td>\n",
              "      <td>No</td>\n",
              "      <td>No</td>\n",
              "      <td>Female</td>\n",
              "      <td>Agency</td>\n",
              "      <td>ERS</td>\n",
              "      <td>Noida</td>\n",
              "    </tr>\n",
              "    <tr>\n",
              "      <th>1</th>\n",
              "      <td>18</td>\n",
              "      <td>30</td>\n",
              "      <td>50.00</td>\n",
              "      <td>320.00</td>\n",
              "      <td>180.00</td>\n",
              "      <td>8</td>\n",
              "      <td>34</td>\n",
              "      <td>No</td>\n",
              "      <td>E2</td>\n",
              "      <td>No</td>\n",
              "      <td>No</td>\n",
              "      <td>Male</td>\n",
              "      <td>Employee Referral</td>\n",
              "      <td>INFRA</td>\n",
              "      <td>Chennai</td>\n",
              "    </tr>\n",
              "    <tr>\n",
              "      <th>2</th>\n",
              "      <td>3</td>\n",
              "      <td>45</td>\n",
              "      <td>42.84</td>\n",
              "      <td>42.84</td>\n",
              "      <td>0.00</td>\n",
              "      <td>4</td>\n",
              "      <td>27</td>\n",
              "      <td>No</td>\n",
              "      <td>E2</td>\n",
              "      <td>No</td>\n",
              "      <td>No</td>\n",
              "      <td>Male</td>\n",
              "      <td>Agency</td>\n",
              "      <td>INFRA</td>\n",
              "      <td>Noida</td>\n",
              "    </tr>\n",
              "    <tr>\n",
              "      <th>3</th>\n",
              "      <td>26</td>\n",
              "      <td>30</td>\n",
              "      <td>42.84</td>\n",
              "      <td>42.84</td>\n",
              "      <td>0.00</td>\n",
              "      <td>4</td>\n",
              "      <td>34</td>\n",
              "      <td>No</td>\n",
              "      <td>E2</td>\n",
              "      <td>No</td>\n",
              "      <td>No</td>\n",
              "      <td>Male</td>\n",
              "      <td>Employee Referral</td>\n",
              "      <td>INFRA</td>\n",
              "      <td>Noida</td>\n",
              "    </tr>\n",
              "    <tr>\n",
              "      <th>4</th>\n",
              "      <td>1</td>\n",
              "      <td>120</td>\n",
              "      <td>42.59</td>\n",
              "      <td>42.59</td>\n",
              "      <td>0.00</td>\n",
              "      <td>6</td>\n",
              "      <td>34</td>\n",
              "      <td>Yes</td>\n",
              "      <td>E2</td>\n",
              "      <td>No</td>\n",
              "      <td>Yes</td>\n",
              "      <td>Male</td>\n",
              "      <td>Employee Referral</td>\n",
              "      <td>INFRA</td>\n",
              "      <td>Noida</td>\n",
              "    </tr>\n",
              "  </tbody>\n",
              "</table>\n",
              "</div>"
            ],
            "text/plain": [
              "   Accept_duration  Notice_period  Percent_hike_expected  \\\n",
              "0               14             30                 -20.79   \n",
              "1               18             30                  50.00   \n",
              "2                3             45                  42.84   \n",
              "3               26             30                  42.84   \n",
              "4                1            120                  42.59   \n",
              "\n",
              "   Percent_hike_offered  Percent_difference  Rex  Age DOJ_extended  \\\n",
              "0                 13.16               42.86    7   34          Yes   \n",
              "1                320.00              180.00    8   34           No   \n",
              "2                 42.84                0.00    4   27           No   \n",
              "3                 42.84                0.00    4   34           No   \n",
              "4                 42.59                0.00    6   34          Yes   \n",
              "\n",
              "  Offered_band Joining_Bonus Relocated  Gender             Source    LOB  \\\n",
              "0           E2            No        No  Female             Agency    ERS   \n",
              "1           E2            No        No    Male  Employee Referral  INFRA   \n",
              "2           E2            No        No    Male             Agency  INFRA   \n",
              "3           E2            No        No    Male  Employee Referral  INFRA   \n",
              "4           E2            No       Yes    Male  Employee Referral  INFRA   \n",
              "\n",
              "  Location  \n",
              "0    Noida  \n",
              "1  Chennai  \n",
              "2    Noida  \n",
              "3    Noida  \n",
              "4    Noida  "
            ]
          },
          "execution_count": 31,
          "metadata": {},
          "output_type": "execute_result"
        }
      ],
      "source": [
        "#Independented Varibales\n",
        "x = df1.iloc[:,:-1]\n",
        "x.head()"
      ]
    },
    {
      "cell_type": "code",
      "execution_count": 32,
      "metadata": {
        "colab": {
          "base_uri": "https://localhost:8080/"
        },
        "id": "0MVr9tWV129b",
        "outputId": "604bfaf8-6212-493c-f959-838d3f29d7b4"
      },
      "outputs": [
        {
          "data": {
            "text/plain": [
              "0    Joined\n",
              "1    Joined\n",
              "2    Joined\n",
              "3    Joined\n",
              "4    Joined\n",
              "Name: Status, dtype: object"
            ]
          },
          "execution_count": 32,
          "metadata": {},
          "output_type": "execute_result"
        }
      ],
      "source": [
        "#Dependented Varibales\n",
        "y = df1.iloc[:,-1]\n",
        "y.head()"
      ]
    },
    {
      "cell_type": "code",
      "execution_count": 33,
      "metadata": {
        "colab": {
          "base_uri": "https://localhost:8080/"
        },
        "id": "Kas8INd42iD_",
        "outputId": "f452e25e-12c9-4673-c96f-6f35eaaff9e0"
      },
      "outputs": [
        {
          "data": {
            "text/plain": [
              "array(['Joined', 'Not Joined'], dtype=object)"
            ]
          },
          "execution_count": 33,
          "metadata": {},
          "output_type": "execute_result"
        }
      ],
      "source": [
        "#Check unique attributes\n",
        "df1['Status'].unique()"
      ]
    },
    {
      "cell_type": "code",
      "execution_count": 34,
      "metadata": {
        "id": "04-Z6XLr2HNc"
      },
      "outputs": [],
      "source": [
        "#Encoding the dependented variable to binary > Joined to '0' Not Joined to '1'\n",
        "y.replace(['Joined','Not Joined'],[0,1],inplace=True)"
      ]
    },
    {
      "cell_type": "code",
      "execution_count": 35,
      "metadata": {
        "colab": {
          "base_uri": "https://localhost:8080/"
        },
        "id": "omWUdWD326iE",
        "outputId": "ee9aa0ff-dc24-434d-b92c-c7254047ee15"
      },
      "outputs": [
        {
          "data": {
            "text/plain": [
              "array([0, 1], dtype=int64)"
            ]
          },
          "execution_count": 35,
          "metadata": {},
          "output_type": "execute_result"
        }
      ],
      "source": [
        "#Checking is replaced are not\n",
        "y.unique()"
      ]
    },
    {
      "cell_type": "markdown",
      "metadata": {
        "id": "VIRodEoJ4m-s"
      },
      "source": [
        "### Creating Dummies"
      ]
    },
    {
      "cell_type": "code",
      "execution_count": 36,
      "metadata": {
        "id": "wKbKC_bx29t5"
      },
      "outputs": [],
      "source": [
        "xd = pd.get_dummies(x,drop_first=True)"
      ]
    },
    {
      "cell_type": "code",
      "execution_count": 37,
      "metadata": {
        "colab": {
          "base_uri": "https://localhost:8080/"
        },
        "id": "cRTB0zDP6BJ4",
        "outputId": "1a69a30a-a3a4-4303-b452-df9c976b2473"
      },
      "outputs": [
        {
          "data": {
            "text/plain": [
              "Index(['Accept_duration', 'Notice_period', 'Percent_hike_expected',\n",
              "       'Percent_hike_offered', 'Percent_difference', 'Rex', 'Age',\n",
              "       'DOJ_extended_Yes', 'Offered_band_E1', 'Offered_band_E2',\n",
              "       'Offered_band_E3', 'Joining_Bonus_Yes', 'Relocated_Yes', 'Gender_Male',\n",
              "       'Source_Direct', 'Source_Employee Referral', 'LOB_BFSI', 'LOB_CSMP',\n",
              "       'LOB_EAS', 'LOB_ERS', 'LOB_ETS', 'LOB_Healthcare', 'LOB_INFRA',\n",
              "       'LOB_MMS', 'Location_Bangalore', 'Location_Chennai', 'Location_Cochin',\n",
              "       'Location_Gurgaon', 'Location_Hyderabad', 'Location_Kolkata',\n",
              "       'Location_Mumbai', 'Location_Noida', 'Location_Others',\n",
              "       'Location_Pune'],\n",
              "      dtype='object')"
            ]
          },
          "execution_count": 37,
          "metadata": {},
          "output_type": "execute_result"
        }
      ],
      "source": [
        "xd.keys()"
      ]
    },
    {
      "cell_type": "code",
      "execution_count": 38,
      "metadata": {
        "colab": {
          "base_uri": "https://localhost:8080/",
          "height": 465
        },
        "id": "womJSap3l5nW",
        "outputId": "e811d21b-1002-4a28-dfa8-fadfc0dfb27d"
      },
      "outputs": [
        {
          "data": {
            "image/png": "[encoded data removed]",
            "text/plain": [
              "<Figure size 1000x500 with 1 Axes>"
            ]
          },
          "metadata": {},
          "output_type": "display_data"
        }
      ],
      "source": [
        "#Count plot for the Target variable\n",
        "\n",
        "fig, ax = plt.subplots(figsize=(10, 5))\n",
        "sns.countplot(data=df, x='Status', ax=ax)\n",
        "plt.show()\n"
      ]
    },
    {
      "cell_type": "markdown",
      "metadata": {
        "id": "PGZQUKZknYuD"
      },
      "source": [
        "From all above observation we can observe the **target variable** which is \"Status\" is inbalance in nature which is we can observe from above plot number of candidates joined are more in number than the Not Joined once. Even though the model accuracy is good enough but the predications made are wrong we knew it. So inorder the make dataset balance in nature we shall use the **Synthetic Minority Oversample TechniquE ( SMOTE )** for it to make it balance."
      ]
    },
    {
      "cell_type": "markdown",
      "metadata": {
        "id": "TESzv8Dosnt1"
      },
      "source": [
        "### Balancing the dataset using the SMOTE"
      ]
    },
    {
      "cell_type": "code",
      "execution_count": 40,
      "metadata": {
        "id": "DhLNaE4Mo9sw"
      },
      "outputs": [
        {
          "name": "stdout",
          "output_type": "stream",
          "text": [
            "Collecting imbalanced-learn\n",
            "  Downloading imbalanced_learn-0.13.0-py3-none-any.whl.metadata (8.8 kB)\n",
            "Requirement already satisfied: numpy<3,>=1.24.3 in c:\\users\\snigd\\appdata\\local\\programs\\python\\python312\\lib\\site-packages (from imbalanced-learn) (1.26.2)\n",
            "Requirement already satisfied: scipy<2,>=1.10.1 in c:\\users\\snigd\\appdata\\local\\programs\\python\\python312\\lib\\site-packages (from imbalanced-learn) (1.11.4)\n",
            "Requirement already satisfied: scikit-learn<2,>=1.3.2 in c:\\users\\snigd\\appdata\\local\\programs\\python\\python312\\lib\\site-packages (from imbalanced-learn) (1.6.1)\n",
            "Collecting sklearn-compat<1,>=0.1 (from imbalanced-learn)\n",
            "  Downloading sklearn_compat-0.1.3-py3-none-any.whl.metadata (18 kB)\n",
            "Requirement already satisfied: joblib<2,>=1.1.1 in c:\\users\\snigd\\appdata\\local\\programs\\python\\python312\\lib\\site-packages (from imbalanced-learn) (1.4.2)\n",
            "Requirement already satisfied: threadpoolctl<4,>=2.0.0 in c:\\users\\snigd\\appdata\\local\\programs\\python\\python312\\lib\\site-packages (from imbalanced-learn) (3.6.0)\n",
            "Downloading imbalanced_learn-0.13.0-py3-none-any.whl (238 kB)\n",
            "Downloading sklearn_compat-0.1.3-py3-none-any.whl (18 kB)\n",
            "Installing collected packages: sklearn-compat, imbalanced-learn\n",
            "Successfully installed imbalanced-learn-0.13.0 sklearn-compat-0.1.3\n"
          ]
        }
      ],
      "source": [
        "#Importing the imblearn\n",
        "!pip install imbalanced-learn\n",
        "import imblearn\n",
        "from imblearn.over_sampling import SMOTE #Importing SMOTE"
      ]
    },
    {
      "cell_type": "code",
      "execution_count": 41,
      "metadata": {
        "id": "Ygto8EgD6Cq3"
      },
      "outputs": [],
      "source": [
        "x_resam,y_resam = SMOTE(k_neighbors=5).fit_resample(xd,y) #resample fit"
      ]
    },
    {
      "cell_type": "code",
      "execution_count": 42,
      "metadata": {
        "colab": {
          "base_uri": "https://localhost:8080/",
          "height": 465
        },
        "id": "5qDJ5pvm7jGH",
        "outputId": "014eb4c6-7025-40a8-ffd6-4d01d868ddf7"
      },
      "outputs": [
        {
          "data": {
            "image/png": "[encoded data removed]",
            "text/plain": [
              "<Figure size 1000x500 with 1 Axes>"
            ]
          },
          "metadata": {},
          "output_type": "display_data"
        }
      ],
      "source": [
        "#Count plot\n",
        "fig,ax=plt.subplots(figsize=(10,5))\n",
        "sns.countplot(x = y_resam,ax=ax)\n",
        "plt.show()"
      ]
    },
    {
      "cell_type": "markdown",
      "metadata": {
        "id": "XdCi7kAIti_H"
      },
      "source": [
        "From above observation we can see the **target variable which is 'y' (Status)** got balance"
      ]
    },
    {
      "cell_type": "markdown",
      "metadata": {
        "id": "VDN42-qxBknl"
      },
      "source": [
        "## Train Test"
      ]
    },
    {
      "cell_type": "code",
      "execution_count": 43,
      "metadata": {
        "id": "6c6R92ulAWIi"
      },
      "outputs": [],
      "source": [
        "#Random seed\n",
        "np.random.seed(1001)"
      ]
    },
    {
      "cell_type": "code",
      "execution_count": 44,
      "metadata": {
        "id": "xeUqs6IDBvyc"
      },
      "outputs": [],
      "source": [
        "#Importing train & test split\n",
        "from sklearn.model_selection import train_test_split"
      ]
    },
    {
      "cell_type": "code",
      "execution_count": 45,
      "metadata": {
        "id": "UcNn0BPoB0Zi"
      },
      "outputs": [],
      "source": [
        "#Spliting to train,test\n",
        "x_train,x_test,y_train,y_test = train_test_split(x_resam,y_resam,test_size=0.2)"
      ]
    },
    {
      "cell_type": "code",
      "execution_count": 46,
      "metadata": {
        "colab": {
          "base_uri": "https://localhost:8080/"
        },
        "id": "SE6ZGqKZCE6E",
        "outputId": "f507878f-0dd2-422c-f99a-7238acf454a3"
      },
      "outputs": [
        {
          "data": {
            "text/plain": [
              "((11700, 34), (2926, 34), (11700,), (2926,))"
            ]
          },
          "execution_count": 46,
          "metadata": {},
          "output_type": "execute_result"
        }
      ],
      "source": [
        "#Checking shape of train,test\n",
        "x_train.shape,x_test.shape,y_train.shape,y_test.shape"
      ]
    },
    {
      "cell_type": "code",
      "execution_count": 47,
      "metadata": {
        "id": "UuwL4JzbCIpp"
      },
      "outputs": [],
      "source": [
        "#Importing Logistic Regression\n",
        "from sklearn.linear_model import LogisticRegression"
      ]
    },
    {
      "cell_type": "code",
      "execution_count": 48,
      "metadata": {
        "id": "aC5kek6jCyYF"
      },
      "outputs": [],
      "source": [
        "#model_1 as Logistic class\n",
        "model_1 = LogisticRegression()"
      ]
    },
    {
      "cell_type": "code",
      "execution_count": 49,
      "metadata": {
        "colab": {
          "base_uri": "https://localhost:8080/",
          "height": 74
        },
        "id": "uX5xX6OeC20N",
        "outputId": "2fce513e-536a-4181-c1b8-1e0dfd0b75ae"
      },
      "outputs": [
        {
          "data": {
            "text/html": [
              "<style>#sk-container-id-1 {\n",
              "  /* Definition of color scheme common for light and dark mode */\n",
              "  --sklearn-color-text: #000;\n",
              "  --sklearn-color-text-muted: #666;\n",
              "  --sklearn-color-line: gray;\n",
              "  /* Definition of color scheme for unfitted estimators */\n",
              "  --sklearn-color-unfitted-level-0: #fff5e6;\n",
              "  --sklearn-color-unfitted-level-1: #f6e4d2;\n",
              "  --sklearn-color-unfitted-level-2: #ffe0b3;\n",
              "  --sklearn-color-unfitted-level-3: chocolate;\n",
              "  /* Definition of color scheme for fitted estimators */\n",
              "  --sklearn-color-fitted-level-0: #f0f8ff;\n",
              "  --sklearn-color-fitted-level-1: #d4ebff;\n",
              "  --sklearn-color-fitted-level-2: #b3dbfd;\n",
              "  --sklearn-color-fitted-level-3: cornflowerblue;\n",
              "\n",
              "  /* Specific color for light theme */\n",
              "  --sklearn-color-text-on-default-background: var(--sg-text-color, var(--theme-code-foreground, var(--jp-content-font-color1, black)));\n",
              "  --sklearn-color-background: var(--sg-background-color, var(--theme-background, var(--jp-layout-color0, white)));\n",
              "  --sklearn-color-border-box: var(--sg-text-color, var(--theme-code-foreground, var(--jp-content-font-color1, black)));\n",
              "  --sklearn-color-icon: #696969;\n",
              "\n",
              "  @media (prefers-color-scheme: dark) {\n",
              "    /* Redefinition of color scheme for dark theme */\n",
              "    --sklearn-color-text-on-default-background: var(--sg-text-color, var(--theme-code-foreground, var(--jp-content-font-color1, white)));\n",
              "    --sklearn-color-background: var(--sg-background-color, var(--theme-background, var(--jp-layout-color0, #111)));\n",
              "    --sklearn-color-border-box: var(--sg-text-color, var(--theme-code-foreground, var(--jp-content-font-color1, white)));\n",
              "    --sklearn-color-icon: #878787;\n",
              "  }\n",
              "}\n",
              "\n",
              "#sk-container-id-1 {\n",
              "  color: var(--sklearn-color-text);\n",
              "}\n",
              "\n",
              "#sk-container-id-1 pre {\n",
              "  padding: 0;\n",
              "}\n",
              "\n",
              "#sk-container-id-1 input.sk-hidden--visually {\n",
              "  border: 0;\n",
              "  clip: rect(1px 1px 1px 1px);\n",
              "  clip: rect(1px, 1px, 1px, 1px);\n",
              "  height: 1px;\n",
              "  margin: -1px;\n",
              "  overflow: hidden;\n",
              "  padding: 0;\n",
              "  position: absolute;\n",
              "  width: 1px;\n",
              "}\n",
              "\n",
              "#sk-container-id-1 div.sk-dashed-wrapped {\n",
              "  border: 1px dashed var(--sklearn-color-line);\n",
              "  margin: 0 0.4em 0.5em 0.4em;\n",
              "  box-sizing: border-box;\n",
              "  padding-bottom: 0.4em;\n",
              "  background-color: var(--sklearn-color-background);\n",
              "}\n",
              "\n",
              "#sk-container-id-1 div.sk-container {\n",
              "  /* jupyter's `normalize.less` sets `[hidden] { display: none; }`\n",
              "     but bootstrap.min.css set `[hidden] { display: none !important; }`\n",
              "     so we also need the `!important` here to be able to override the\n",
              "     default hidden behavior on the sphinx rendered scikit-learn.org.\n",
              "     See: https://github.com/scikit-learn/scikit-learn/issues/21755 */\n",
              "  display: inline-block !important;\n",
              "  position: relative;\n",
              "}\n",
              "\n",
              "#sk-container-id-1 div.sk-text-repr-fallback {\n",
              "  display: none;\n",
              "}\n",
              "\n",
              "div.sk-parallel-item,\n",
              "div.sk-serial,\n",
              "div.sk-item {\n",
              "  /* draw centered vertical line to link estimators */\n",
              "  background-image: linear-gradient(var(--sklearn-color-text-on-default-background), var(--sklearn-color-text-on-default-background));\n",
              "  background-size: 2px 100%;\n",
              "  background-repeat: no-repeat;\n",
              "  background-position: center center;\n",
              "}\n",
              "\n",
              "/* Parallel-specific style estimator block */\n",
              "\n",
              "#sk-container-id-1 div.sk-parallel-item::after {\n",
              "  content: \"\";\n",
              "  width: 100%;\n",
              "  border-bottom: 2px solid var(--sklearn-color-text-on-default-background);\n",
              "  flex-grow: 1;\n",
              "}\n",
              "\n",
              "#sk-container-id-1 div.sk-parallel {\n",
              "  display: flex;\n",
              "  align-items: stretch;\n",
              "  justify-content: center;\n",
              "  background-color: var(--sklearn-color-background);\n",
              "  position: relative;\n",
              "}\n",
              "\n",
              "#sk-container-id-1 div.sk-parallel-item {\n",
              "  display: flex;\n",
              "  flex-direction: column;\n",
              "}\n",
              "\n",
              "#sk-container-id-1 div.sk-parallel-item:first-child::after {\n",
              "  align-self: flex-end;\n",
              "  width: 50%;\n",
              "}\n",
              "\n",
              "#sk-container-id-1 div.sk-parallel-item:last-child::after {\n",
              "  align-self: flex-start;\n",
              "  width: 50%;\n",
              "}\n",
              "\n",
              "#sk-container-id-1 div.sk-parallel-item:only-child::after {\n",
              "  width: 0;\n",
              "}\n",
              "\n",
              "/* Serial-specific style estimator block */\n",
              "\n",
              "#sk-container-id-1 div.sk-serial {\n",
              "  display: flex;\n",
              "  flex-direction: column;\n",
              "  align-items: center;\n",
              "  background-color: var(--sklearn-color-background);\n",
              "  padding-right: 1em;\n",
              "  padding-left: 1em;\n",
              "}\n",
              "\n",
              "\n",
              "/* Toggleable style: style used for estimator/Pipeline/ColumnTransformer box that is\n",
              "clickable and can be expanded/collapsed.\n",
              "- Pipeline and ColumnTransformer use this feature and define the default style\n",
              "- Estimators will overwrite some part of the style using the `sk-estimator` class\n",
              "*/\n",
              "\n",
              "/* Pipeline and ColumnTransformer style (default) */\n",
              "\n",
              "#sk-container-id-1 div.sk-toggleable {\n",
              "  /* Default theme specific background. It is overwritten whether we have a\n",
              "  specific estimator or a Pipeline/ColumnTransformer */\n",
              "  background-color: var(--sklearn-color-background);\n",
              "}\n",
              "\n",
              "/* Toggleable label */\n",
              "#sk-container-id-1 label.sk-toggleable__label {\n",
              "  cursor: pointer;\n",
              "  display: flex;\n",
              "  width: 100%;\n",
              "  margin-bottom: 0;\n",
              "  padding: 0.5em;\n",
              "  box-sizing: border-box;\n",
              "  text-align: center;\n",
              "  align-items: start;\n",
              "  justify-content: space-between;\n",
              "  gap: 0.5em;\n",
              "}\n",
              "\n",
              "#sk-container-id-1 label.sk-toggleable__label .caption {\n",
              "  font-size: 0.6rem;\n",
              "  font-weight: lighter;\n",
              "  color: var(--sklearn-color-text-muted);\n",
              "}\n",
              "\n",
              "#sk-container-id-1 label.sk-toggleable__label-arrow:before {\n",
              "  /* Arrow on the left of the label */\n",
              "  content: \"▸\";\n",
              "  float: left;\n",
              "  margin-right: 0.25em;\n",
              "  color: var(--sklearn-color-icon);\n",
              "}\n",
              "\n",
              "#sk-container-id-1 label.sk-toggleable__label-arrow:hover:before {\n",
              "  color: var(--sklearn-color-text);\n",
              "}\n",
              "\n",
              "/* Toggleable content - dropdown */\n",
              "\n",
              "#sk-container-id-1 div.sk-toggleable__content {\n",
              "  max-height: 0;\n",
              "  max-width: 0;\n",
              "  overflow: hidden;\n",
              "  text-align: left;\n",
              "  /* unfitted */\n",
              "  background-color: var(--sklearn-color-unfitted-level-0);\n",
              "}\n",
              "\n",
              "#sk-container-id-1 div.sk-toggleable__content.fitted {\n",
              "  /* fitted */\n",
              "  background-color: var(--sklearn-color-fitted-level-0);\n",
              "}\n",
              "\n",
              "#sk-container-id-1 div.sk-toggleable__content pre {\n",
              "  margin: 0.2em;\n",
              "  border-radius: 0.25em;\n",
              "  color: var(--sklearn-color-text);\n",
              "  /* unfitted */\n",
              "  background-color: var(--sklearn-color-unfitted-level-0);\n",
              "}\n",
              "\n",
              "#sk-container-id-1 div.sk-toggleable__content.fitted pre {\n",
              "  /* unfitted */\n",
              "  background-color: var(--sklearn-color-fitted-level-0);\n",
              "}\n",
              "\n",
              "#sk-container-id-1 input.sk-toggleable__control:checked~div.sk-toggleable__content {\n",
              "  /* Expand drop-down */\n",
              "  max-height: 200px;\n",
              "  max-width: 100%;\n",
              "  overflow: auto;\n",
              "}\n",
              "\n",
              "#sk-container-id-1 input.sk-toggleable__control:checked~label.sk-toggleable__label-arrow:before {\n",
              "  content: \"▾\";\n",
              "}\n",
              "\n",
              "/* Pipeline/ColumnTransformer-specific style */\n",
              "\n",
              "#sk-container-id-1 div.sk-label input.sk-toggleable__control:checked~label.sk-toggleable__label {\n",
              "  color: var(--sklearn-color-text);\n",
              "  background-color: var(--sklearn-color-unfitted-level-2);\n",
              "}\n",
              "\n",
              "#sk-container-id-1 div.sk-label.fitted input.sk-toggleable__control:checked~label.sk-toggleable__label {\n",
              "  background-color: var(--sklearn-color-fitted-level-2);\n",
              "}\n",
              "\n",
              "/* Estimator-specific style */\n",
              "\n",
              "/* Colorize estimator box */\n",
              "#sk-container-id-1 div.sk-estimator input.sk-toggleable__control:checked~label.sk-toggleable__label {\n",
              "  /* unfitted */\n",
              "  background-color: var(--sklearn-color-unfitted-level-2);\n",
              "}\n",
              "\n",
              "#sk-container-id-1 div.sk-estimator.fitted input.sk-toggleable__control:checked~label.sk-toggleable__label {\n",
              "  /* fitted */\n",
              "  background-color: var(--sklearn-color-fitted-level-2);\n",
              "}\n",
              "\n",
              "#sk-container-id-1 div.sk-label label.sk-toggleable__label,\n",
              "#sk-container-id-1 div.sk-label label {\n",
              "  /* The background is the default theme color */\n",
              "  color: var(--sklearn-color-text-on-default-background);\n",
              "}\n",
              "\n",
              "/* On hover, darken the color of the background */\n",
              "#sk-container-id-1 div.sk-label:hover label.sk-toggleable__label {\n",
              "  color: var(--sklearn-color-text);\n",
              "  background-color: var(--sklearn-color-unfitted-level-2);\n",
              "}\n",
              "\n",
              "/* Label box, darken color on hover, fitted */\n",
              "#sk-container-id-1 div.sk-label.fitted:hover label.sk-toggleable__label.fitted {\n",
              "  color: var(--sklearn-color-text);\n",
              "  background-color: var(--sklearn-color-fitted-level-2);\n",
              "}\n",
              "\n",
              "/* Estimator label */\n",
              "\n",
              "#sk-container-id-1 div.sk-label label {\n",
              "  font-family: monospace;\n",
              "  font-weight: bold;\n",
              "  display: inline-block;\n",
              "  line-height: 1.2em;\n",
              "}\n",
              "\n",
              "#sk-container-id-1 div.sk-label-container {\n",
              "  text-align: center;\n",
              "}\n",
              "\n",
              "/* Estimator-specific */\n",
              "#sk-container-id-1 div.sk-estimator {\n",
              "  font-family: monospace;\n",
              "  border: 1px dotted var(--sklearn-color-border-box);\n",
              "  border-radius: 0.25em;\n",
              "  box-sizing: border-box;\n",
              "  margin-bottom: 0.5em;\n",
              "  /* unfitted */\n",
              "  background-color: var(--sklearn-color-unfitted-level-0);\n",
              "}\n",
              "\n",
              "#sk-container-id-1 div.sk-estimator.fitted {\n",
              "  /* fitted */\n",
              "  background-color: var(--sklearn-color-fitted-level-0);\n",
              "}\n",
              "\n",
              "/* on hover */\n",
              "#sk-container-id-1 div.sk-estimator:hover {\n",
              "  /* unfitted */\n",
              "  background-color: var(--sklearn-color-unfitted-level-2);\n",
              "}\n",
              "\n",
              "#sk-container-id-1 div.sk-estimator.fitted:hover {\n",
              "  /* fitted */\n",
              "  background-color: var(--sklearn-color-fitted-level-2);\n",
              "}\n",
              "\n",
              "/* Specification for estimator info (e.g. \"i\" and \"?\") */\n",
              "\n",
              "/* Common style for \"i\" and \"?\" */\n",
              "\n",
              ".sk-estimator-doc-link,\n",
              "a:link.sk-estimator-doc-link,\n",
              "a:visited.sk-estimator-doc-link {\n",
              "  float: right;\n",
              "  font-size: smaller;\n",
              "  line-height: 1em;\n",
              "  font-family: monospace;\n",
              "  background-color: var(--sklearn-color-background);\n",
              "  border-radius: 1em;\n",
              "  height: 1em;\n",
              "  width: 1em;\n",
              "  text-decoration: none !important;\n",
              "  margin-left: 0.5em;\n",
              "  text-align: center;\n",
              "  /* unfitted */\n",
              "  border: var(--sklearn-color-unfitted-level-1) 1pt solid;\n",
              "  color: var(--sklearn-color-unfitted-level-1);\n",
              "}\n",
              "\n",
              ".sk-estimator-doc-link.fitted,\n",
              "a:link.sk-estimator-doc-link.fitted,\n",
              "a:visited.sk-estimator-doc-link.fitted {\n",
              "  /* fitted */\n",
              "  border: var(--sklearn-color-fitted-level-1) 1pt solid;\n",
              "  color: var(--sklearn-color-fitted-level-1);\n",
              "}\n",
              "\n",
              "/* On hover */\n",
              "div.sk-estimator:hover .sk-estimator-doc-link:hover,\n",
              ".sk-estimator-doc-link:hover,\n",
              "div.sk-label-container:hover .sk-estimator-doc-link:hover,\n",
              ".sk-estimator-doc-link:hover {\n",
              "  /* unfitted */\n",
              "  background-color: var(--sklearn-color-unfitted-level-3);\n",
              "  color: var(--sklearn-color-background);\n",
              "  text-decoration: none;\n",
              "}\n",
              "\n",
              "div.sk-estimator.fitted:hover .sk-estimator-doc-link.fitted:hover,\n",
              ".sk-estimator-doc-link.fitted:hover,\n",
              "div.sk-label-container:hover .sk-estimator-doc-link.fitted:hover,\n",
              ".sk-estimator-doc-link.fitted:hover {\n",
              "  /* fitted */\n",
              "  background-color: var(--sklearn-color-fitted-level-3);\n",
              "  color: var(--sklearn-color-background);\n",
              "  text-decoration: none;\n",
              "}\n",
              "\n",
              "/* Span, style for the box shown on hovering the info icon */\n",
              ".sk-estimator-doc-link span {\n",
              "  display: none;\n",
              "  z-index: 9999;\n",
              "  position: relative;\n",
              "  font-weight: normal;\n",
              "  right: .2ex;\n",
              "  padding: .5ex;\n",
              "  margin: .5ex;\n",
              "  width: min-content;\n",
              "  min-width: 20ex;\n",
              "  max-width: 50ex;\n",
              "  color: var(--sklearn-color-text);\n",
              "  box-shadow: 2pt 2pt 4pt #999;\n",
              "  /* unfitted */\n",
              "  background: var(--sklearn-color-unfitted-level-0);\n",
              "  border: .5pt solid var(--sklearn-color-unfitted-level-3);\n",
              "}\n",
              "\n",
              ".sk-estimator-doc-link.fitted span {\n",
              "  /* fitted */\n",
              "  background: var(--sklearn-color-fitted-level-0);\n",
              "  border: var(--sklearn-color-fitted-level-3);\n",
              "}\n",
              "\n",
              ".sk-estimator-doc-link:hover span {\n",
              "  display: block;\n",
              "}\n",
              "\n",
              "/* \"?\"-specific style due to the `<a>` HTML tag */\n",
              "\n",
              "#sk-container-id-1 a.estimator_doc_link {\n",
              "  float: right;\n",
              "  font-size: 1rem;\n",
              "  line-height: 1em;\n",
              "  font-family: monospace;\n",
              "  background-color: var(--sklearn-color-background);\n",
              "  border-radius: 1rem;\n",
              "  height: 1rem;\n",
              "  width: 1rem;\n",
              "  text-decoration: none;\n",
              "  /* unfitted */\n",
              "  color: var(--sklearn-color-unfitted-level-1);\n",
              "  border: var(--sklearn-color-unfitted-level-1) 1pt solid;\n",
              "}\n",
              "\n",
              "#sk-container-id-1 a.estimator_doc_link.fitted {\n",
              "  /* fitted */\n",
              "  border: var(--sklearn-color-fitted-level-1) 1pt solid;\n",
              "  color: var(--sklearn-color-fitted-level-1);\n",
              "}\n",
              "\n",
              "/* On hover */\n",
              "#sk-container-id-1 a.estimator_doc_link:hover {\n",
              "  /* unfitted */\n",
              "  background-color: var(--sklearn-color-unfitted-level-3);\n",
              "  color: var(--sklearn-color-background);\n",
              "  text-decoration: none;\n",
              "}\n",
              "\n",
              "#sk-container-id-1 a.estimator_doc_link.fitted:hover {\n",
              "  /* fitted */\n",
              "  background-color: var(--sklearn-color-fitted-level-3);\n",
              "}\n",
              "</style><div id=\"sk-container-id-1\" class=\"sk-top-container\"><div class=\"sk-text-repr-fallback\"><pre>LogisticRegression()</pre><b>In a Jupyter environment, please rerun this cell to show the HTML representation or trust the notebook. <br />On GitHub, the HTML representation is unable to render, please try loading this page with nbviewer.org.</b></div><div class=\"sk-container\" hidden><div class=\"sk-item\"><div class=\"sk-estimator fitted sk-toggleable\"><input class=\"sk-toggleable__control sk-hidden--visually\" id=\"sk-estimator-id-1\" type=\"checkbox\" checked><label for=\"sk-estimator-id-1\" class=\"sk-toggleable__label fitted sk-toggleable__label-arrow\"><div><div>LogisticRegression</div></div><div><a class=\"sk-estimator-doc-link fitted\" rel=\"noreferrer\" target=\"_blank\" href=\"https://scikit-learn.org/1.6/modules/generated/sklearn.linear_model.LogisticRegression.html\">?<span>Documentation for LogisticRegression</span></a><span class=\"sk-estimator-doc-link fitted\">i<span>Fitted</span></span></div></label><div class=\"sk-toggleable__content fitted\"><pre>LogisticRegression()</pre></div> </div></div></div></div>"
            ],
            "text/plain": [
              "LogisticRegression()"
            ]
          },
          "execution_count": 49,
          "metadata": {},
          "output_type": "execute_result"
        }
      ],
      "source": [
        "#Fit model\n",
        "model_1.fit(x_train,y_train)"
      ]
    },
    {
      "cell_type": "code",
      "execution_count": 76,
      "metadata": {
        "id": "FrHReMdh7nEF"
      },
      "outputs": [],
      "source": [
        "#A custom module for classification report, ROC_AUC curve\n",
        "# import innomatics\n",
        "from sklearn.metrics import classification_report, roc_auc_score, roc_curve\n",
        "import matplotlib.pyplot as plt\n",
        "\n",
        "def classification_metric(y_true, y_pred, y_pred_prob=None, labels=None, n=None, verbose=False):\n",
        "    print(\"Classification Report:\")\n",
        "    print(classification_report(y_true, y_pred, target_names=labels))\n",
        "    \n",
        "    if y_pred_prob is not None:\n",
        "        auc = roc_auc_score(y_true, y_pred_prob)\n",
        "        print(f\"ROC-AUC Score: {auc:.3f}\")\n",
        "        \n",
        "        fpr, tpr, thresholds = roc_curve(y_true, y_pred_prob)\n",
        "        plt.plot(fpr, tpr, label=f'AUC = {auc:.2f}')\n",
        "        plt.plot([0,1], [0,1], linestyle='--')\n",
        "        plt.xlabel('False Positive Rate')\n",
        "        plt.ylabel('True Positive Rate')\n",
        "        plt.title('ROC Curve')\n",
        "        plt.legend()\n",
        "        plt.show()\n",
        "    \n",
        "    if verbose:\n",
        "        print(f\"Additional info: {n} samples evaluated.\")\n",
        "\n"
      ]
    },
    {
      "cell_type": "code",
      "execution_count": 53,
      "metadata": {
        "id": "sL4UwZys8FSt"
      },
      "outputs": [],
      "source": [
        "#Predicating the y_train with model_1\n",
        "y_train_pred = model_1.predict(x_train)"
      ]
    },
    {
      "cell_type": "code",
      "execution_count": 54,
      "metadata": {
        "id": "_NiooSqJ8dbI"
      },
      "outputs": [],
      "source": [
        "#considering only postive prob\n",
        "y_train_pred_prob = model_1.predict_proba(x_train)[:,1]"
      ]
    },
    {
      "cell_type": "code",
      "execution_count": 77,
      "metadata": {
        "colab": {
          "base_uri": "https://localhost:8080/",
          "height": 1000
        },
        "id": "zXD4k5Y88nji",
        "outputId": "71942f96-8de6-4d5a-c612-6528b09955c3"
      },
      "outputs": [
        {
          "name": "stdout",
          "output_type": "stream",
          "text": [
            "Classification Report:\n",
            "              precision    recall  f1-score   support\n",
            "\n",
            "      Joined       0.79      0.81      0.80      5850\n",
            "  Not Joined       0.81      0.78      0.79      5850\n",
            "\n",
            "    accuracy                           0.80     11700\n",
            "   macro avg       0.80      0.80      0.80     11700\n",
            "weighted avg       0.80      0.80      0.80     11700\n",
            "\n",
            "ROC-AUC Score: 0.885\n"
          ]
        },
        {
          "data": {
            "image/png": "[encoded data removed]",
            "text/plain": [
              "<Figure size 640x480 with 1 Axes>"
            ]
          },
          "metadata": {},
          "output_type": "display_data"
        },
        {
          "name": "stdout",
          "output_type": "stream",
          "text": [
            "Additional info: 950 samples evaluated.\n"
          ]
        }
      ],
      "source": [
        "classification_metric(y_train,y_train_pred,y_train_pred_prob,['Joined','Not Joined'],n=950,verbose=True)"
      ]
    },
    {
      "cell_type": "markdown",
      "metadata": {
        "id": "MawrpVC6FSJk"
      },
      "source": [
        "From the ROC we can see the we can see the **0.50** begin best fit threshold value, but let us find it from the MLE"
      ]
    },
    {
      "cell_type": "code",
      "execution_count": 56,
      "metadata": {
        "id": "X4mnf0Zk9GGY"
      },
      "outputs": [],
      "source": [
        "from sklearn.metrics import confusion_matrix, classification_report"
      ]
    },
    {
      "cell_type": "code",
      "execution_count": 57,
      "metadata": {
        "id": "K6XEsMb8B91z"
      },
      "outputs": [],
      "source": [
        "tn, fp, fn, tp = confusion_matrix(y_train,y_train_pred).ravel()"
      ]
    },
    {
      "cell_type": "code",
      "execution_count": 58,
      "metadata": {
        "colab": {
          "base_uri": "https://localhost:8080/"
        },
        "id": "hURAshS1CZKb",
        "outputId": "81671d13-7a4e-4b1d-c506-ab12c3b24f7f"
      },
      "outputs": [
        {
          "data": {
            "text/plain": [
              "(4745, 1105, 1282, 4568)"
            ]
          },
          "execution_count": 58,
          "metadata": {},
          "output_type": "execute_result"
        }
      ],
      "source": [
        "tn, fp, fn, tp"
      ]
    },
    {
      "cell_type": "markdown",
      "metadata": {
        "id": "S4_v522CS7IH"
      },
      "source": [
        "Accuracy:\n",
        "Accuracy\n",
        "=\n",
        "TP\n",
        "+\n",
        "TN\n",
        "TP\n",
        "+\n",
        "TN\n",
        "+\n",
        "FP\n",
        "+\n",
        "FN\n",
        "Accuracy=\n",
        "TP+TN+FP+FN\n",
        "TP+TN\n",
        "​\n",
        "\n",
        "Accuracy\n",
        "=\n",
        "4536\n",
        "+\n",
        "5067\n",
        "4536\n",
        "+\n",
        "5067\n",
        "+\n",
        "783\n",
        "+\n",
        "1314\n",
        "=\n",
        "9603\n",
        "11600\n",
        "≈\n",
        "0.828\n",
        "Accuracy=\n",
        "4536+5067+783+1314\n",
        "4536+5067\n",
        "​\n",
        " =\n",
        "11600\n",
        "9603\n",
        "​\n",
        " ≈0.828\n",
        "\n",
        "Precision:\n",
        "Precision\n",
        "=\n",
        "TP\n",
        "TP\n",
        "+\n",
        "FP\n",
        "Precision=\n",
        "TP+FP\n",
        "TP\n",
        "​\n",
        "\n",
        "Precision\n",
        "=\n",
        "4536\n",
        "4536\n",
        "+\n",
        "783\n",
        "≈\n",
        "0.853\n",
        "Precision=\n",
        "4536+783\n",
        "4536\n",
        "​\n",
        " ≈0.853\n",
        "\n",
        "Recall (Sensitivity):\n",
        "Recall\n",
        "=\n",
        "TP\n",
        "TP\n",
        "+\n",
        "FN\n",
        "Recall=\n",
        "TP+FN\n",
        "TP\n",
        "​\n",
        "\n",
        "Recall\n",
        "=\n",
        "4536\n",
        "4536\n",
        "+\n",
        "1314\n",
        "≈\n",
        "0.775\n",
        "Recall=\n",
        "4536+1314\n",
        "4536\n",
        "​\n",
        " ≈0.775\n",
        "\n",
        "F1-Score:\n",
        "F1-Score\n",
        "=\n",
        "2\n",
        "×\n",
        "Precision\n",
        "×\n",
        "Recall\n",
        "Precision\n",
        "+\n",
        "Recall\n",
        "F1-Score=2×\n",
        "Precision+Recall\n",
        "Precision×Recall\n",
        "​\n",
        "\n",
        "F1-Score\n",
        "=\n",
        "2\n",
        "×\n",
        "0.853\n",
        "×\n",
        "0.775\n",
        "0.853\n",
        "+\n",
        "0.775\n",
        "≈\n",
        "0.812\n",
        "F1-Score=2×\n",
        "0.853+0.775\n",
        "0.853×0.775\n",
        "​\n",
        " ≈0.812"
      ]
    },
    {
      "cell_type": "code",
      "execution_count": 65,
      "metadata": {
        "id": "AOHEmamJu0Wu"
      },
      "outputs": [],
      "source": [
        "y_test_pred = model_1.predict(x_test)"
      ]
    },
    {
      "cell_type": "code",
      "execution_count": 66,
      "metadata": {
        "id": "iCf8LYGBu0XF"
      },
      "outputs": [],
      "source": [
        "y_test_pred_prob = model_1.predict_proba(x_test)[:,1] #considering only postive prob"
      ]
    },
    {
      "cell_type": "code",
      "execution_count": 78,
      "metadata": {
        "colab": {
          "base_uri": "https://localhost:8080/",
          "height": 1000
        },
        "id": "qy6K4-eYu0XK",
        "outputId": "37aa0f33-ce78-493b-d82d-59c65148831f"
      },
      "outputs": [
        {
          "name": "stdout",
          "output_type": "stream",
          "text": [
            "Classification Report:\n",
            "              precision    recall  f1-score   support\n",
            "\n",
            "      Joined       0.78      0.80      0.79      1463\n",
            "  Not Joined       0.79      0.77      0.78      1463\n",
            "\n",
            "    accuracy                           0.78      2926\n",
            "   macro avg       0.78      0.78      0.78      2926\n",
            "weighted avg       0.78      0.78      0.78      2926\n",
            "\n",
            "ROC-AUC Score: 0.877\n"
          ]
        },
        {
          "data": {
            "image/png": "[encoded data removed]",
            "text/plain": [
              "<Figure size 640x480 with 1 Axes>"
            ]
          },
          "metadata": {},
          "output_type": "display_data"
        },
        {
          "name": "stdout",
          "output_type": "stream",
          "text": [
            "Additional info: 950 samples evaluated.\n"
          ]
        }
      ],
      "source": [
        "classification_metric(y_test,y_test_pred,y_test_pred_prob,['Joined','Not Joined'],n=950,verbose=True)"
      ]
    },
    {
      "cell_type": "markdown",
      "metadata": {
        "id": "ssqFFgr9v5PT"
      },
      "source": [
        "### Lets us get some threshold value were the loss is minimum using the MLE (**Maximun Likehood Estimation**)"
      ]
    },
    {
      "cell_type": "code",
      "execution_count": 88,
      "metadata": {
        "id": "AblCDSLPCoYL"
      },
      "outputs": [],
      "source": [
        "#Define threshold class to pre\n",
        "class Threshold:\n",
        "    def __init__(self):\n",
        "        self.thresh = 0.5  # Default threshold\n",
        "    \n",
        "    def apply_threshold(self, prob):\n",
        "        \"\"\"\n",
        "        prob: single probability value\n",
        "        self.thresh: threshold to compare against\n",
        "        \"\"\"\n",
        "        return 1 if prob >= self.thresh else 0\n",
        "\n",
        "# pre = classification_report.threshold()\n",
        "# Instead of pre = classification_report.threshold()\n",
        "# pre = Threshold()\n",
        "\n",
        "# # And then you can call\n",
        "# y_train_pred_new = pre.apply_threshold(y_train_pred_prob, thresh=0.6)  # example threshold\n",
        "# y_test_pred_new = pre.apply_threshold(y_test_pred_prob, thresh=0.6)\n",
        "# Set threshold value\n",
        "pre.thresh = 0.6\n",
        "\n",
        "# Apply threshold to your predicted probabilities\n",
        "y_train_pred_new = pd.Series(y_train_pred_prob).apply(pre.apply_threshold)\n",
        "y_test_pred_new = pd.Series(y_test_pred_prob).apply(pre.apply_threshold)\n",
        "\n"
      ]
    },
    {
      "cell_type": "code",
      "execution_count": 82,
      "metadata": {
        "id": "AtTfGWKK0XKO"
      },
      "outputs": [],
      "source": [
        "#Import logloss\n",
        "from sklearn.metrics import log_loss"
      ]
    },
    {
      "cell_type": "code",
      "execution_count": 89,
      "metadata": {
        "id": "nrp1tG3nw-Td"
      },
      "outputs": [],
      "source": [
        "import numpy as np\n",
        "import pandas as pd\n",
        "from sklearn.metrics import log_loss\n",
        "\n",
        "# Assuming y_train and y_train_pred_prob are already defined\n",
        "# y_train_pred_prob must be probabilities (not hard labels)\n",
        "\n",
        "probabilities = np.linspace(0, 1, num=100)  # Generating 100 values between 0 and 1\n",
        "mle = []\n",
        "\n",
        "pre = Threshold()  # Create an object of Threshold\n",
        "\n",
        "for p in probabilities:\n",
        "    pre.thresh = p  # Set threshold value\n",
        "    \n",
        "    yy = pd.Series(y_train_pred_prob)\n",
        "    \n",
        "    # Apply threshold to each probability\n",
        "    y_pred = yy.apply(pre.apply_threshold)\n",
        "    \n",
        "    loss = log_loss(y_train, y_pred)\n",
        "    mle.append(loss)\n",
        "\n",
        "# After this, mle list contains the loss for each threshold\n",
        "# probailites = np.linspace(0,1,num=100) #Genrating 100 values in between 0-1\n",
        "# mle = []\n",
        "# for p in probailites:\n",
        "#   pre.th = p\n",
        "#   yy = pd.Series(y_train_pred_prob)\n",
        "#   y_pred = yy.apply(pre.predict_threshold)\n",
        "#   loss = log_loss(y_train,y_pred)\n",
        "#   mle.append(loss)"
      ]
    },
    {
      "cell_type": "code",
      "execution_count": 90,
      "metadata": {
        "colab": {
          "base_uri": "https://localhost:8080/",
          "height": 388
        },
        "id": "dpIlintq0aEs",
        "outputId": "d9ed82eb-0d89-4701-f9ad-3fe2622234d0"
      },
      "outputs": [
        {
          "data": {
            "image/png": "[encoded data removed]",
            "text/plain": [
              "<Figure size 1000x400 with 1 Axes>"
            ]
          },
          "metadata": {},
          "output_type": "display_data"
        }
      ],
      "source": [
        "#Plot for minimum Logloss\n",
        "plt.figure(figsize=(10,4))\n",
        "sns.scatterplot(x = probailites,y = mle,edgecolor='k')\n",
        "plt.xlabel('Probabilites')\n",
        "plt.ylabel('- (Log Likelihood)')\n",
        "plt.show()"
      ]
    },
    {
      "cell_type": "markdown",
      "metadata": {
        "id": "3_bMGs-j1fTG"
      },
      "source": [
        "We can observe the Log likehood is minimum in between the **0.4 - 0.57 (approx)** from the above plot"
      ]
    },
    {
      "cell_type": "code",
      "execution_count": 91,
      "metadata": {
        "colab": {
          "base_uri": "https://localhost:8080/"
        },
        "id": "yTu7TgSX1Hy6",
        "outputId": "9e452841-1723-4c8a-af33-f14c89ed1c12"
      },
      "outputs": [
        {
          "name": "stdout",
          "output_type": "stream",
          "text": [
            "Threshold Probability Value =  0.636364\n"
          ]
        }
      ],
      "source": [
        "#Getting minimum Logloss\n",
        "min_ind = np.array(mle).argmin()\n",
        "val = probailites[min_ind]\n",
        "print('Threshold Probability Value = ',val.round(6))\n"
      ]
    },
    {
      "cell_type": "markdown",
      "metadata": {
        "id": "Sw4phV5O3AF-"
      },
      "source": [
        "### Apply Threshold Probability on the Train & Test data"
      ]
    },
    {
      "cell_type": "code",
      "execution_count": 93,
      "metadata": {
        "id": "V47vaeyu2QRS"
      },
      "outputs": [],
      "source": [
        "pre.thresh = val\n",
        "yy_test = pd.Series(y_test_pred_prob)\n",
        "yy_train = pd.Series(y_train_pred_prob)\n",
        "y_pred_test = yy_test.apply(pre.apply_threshold)\n",
        "y_pred_train = yy_train.apply(pre.apply_threshold)"
      ]
    },
    {
      "cell_type": "code",
      "execution_count": 94,
      "metadata": {
        "colab": {
          "base_uri": "https://localhost:8080/"
        },
        "id": "Xv2OAvP768FG",
        "outputId": "2ad97a12-abe4-494f-a4c5-0f4f40a42e9c"
      },
      "outputs": [
        {
          "name": "stdout",
          "output_type": "stream",
          "text": [
            "              precision    recall  f1-score   support\n",
            "\n",
            "           0       0.74      0.93      0.83      1463\n",
            "           1       0.91      0.68      0.78      1463\n",
            "\n",
            "    accuracy                           0.80      2926\n",
            "   macro avg       0.83      0.80      0.80      2926\n",
            "weighted avg       0.83      0.80      0.80      2926\n",
            "\n"
          ]
        }
      ],
      "source": [
        "cr = classification_report(y_test,y_pred_test)\n",
        "print(cr)"
      ]
    },
    {
      "cell_type": "code",
      "execution_count": 95,
      "metadata": {
        "colab": {
          "base_uri": "https://localhost:8080/"
        },
        "id": "-NyucDTo6HQr",
        "outputId": "63733669-ac5e-46c2-cd08-39236d3a6313"
      },
      "outputs": [
        {
          "name": "stdout",
          "output_type": "stream",
          "text": [
            "              precision    recall  f1-score   support\n",
            "\n",
            "           0       0.76      0.94      0.84      5850\n",
            "           1       0.92      0.70      0.80      5850\n",
            "\n",
            "    accuracy                           0.82     11700\n",
            "   macro avg       0.84      0.82      0.82     11700\n",
            "weighted avg       0.84      0.82      0.82     11700\n",
            "\n"
          ]
        }
      ],
      "source": [
        "cr = classification_report(y_train,y_pred_train)\n",
        "print(cr)\n"
      ]
    },
    {
      "cell_type": "markdown",
      "metadata": {
        "id": "kfXhAwZdjD9M"
      },
      "source": [
        "## Feature Selection"
      ]
    },
    {
      "cell_type": "markdown",
      "metadata": {
        "id": "ZUrAK0GraTXB"
      },
      "source": [
        "### Before going to feature selection we can see some multicolinearity (*from co-relation plot*) between the varibales.\n",
        "## Using VIF (Variance Inflation Factor) for checking the colinearity."
      ]
    },
    {
      "cell_type": "code",
      "execution_count": 96,
      "metadata": {
        "id": "OhdOC7SUaQOM"
      },
      "outputs": [],
      "source": [
        "#Import Standard Scaler\n",
        "from sklearn.preprocessing import StandardScaler"
      ]
    },
    {
      "cell_type": "code",
      "execution_count": 97,
      "metadata": {
        "id": "OuCSWnx1bQFn"
      },
      "outputs": [],
      "source": [
        "#Assign class to sc\n",
        "sc = StandardScaler()"
      ]
    },
    {
      "cell_type": "code",
      "execution_count": 98,
      "metadata": {
        "id": "GSYgehkZbWbU"
      },
      "outputs": [],
      "source": [
        "#Standardzation x values\n",
        "x_stand = sc.fit_transform(xd)"
      ]
    },
    {
      "cell_type": "code",
      "execution_count": 101,
      "metadata": {
        "id": "lrFI6TDZbhgt"
      },
      "outputs": [
        {
          "name": "stdout",
          "output_type": "stream",
          "text": [
            "Collecting statsmodels\n",
            "  Downloading statsmodels-0.14.4-cp312-cp312-win_amd64.whl.metadata (9.5 kB)\n",
            "Requirement already satisfied: numpy<3,>=1.22.3 in c:\\users\\snigd\\appdata\\local\\programs\\python\\python312\\lib\\site-packages (from statsmodels) (1.26.2)\n",
            "Requirement already satisfied: scipy!=1.9.2,>=1.8 in c:\\users\\snigd\\appdata\\local\\programs\\python\\python312\\lib\\site-packages (from statsmodels) (1.11.4)\n",
            "Requirement already satisfied: pandas!=2.1.0,>=1.4 in c:\\users\\snigd\\appdata\\local\\programs\\python\\python312\\lib\\site-packages (from statsmodels) (2.1.3)\n",
            "Collecting patsy>=0.5.6 (from statsmodels)\n",
            "  Downloading patsy-1.0.1-py2.py3-none-any.whl.metadata (3.3 kB)\n",
            "Requirement already satisfied: packaging>=21.3 in c:\\users\\snigd\\appdata\\roaming\\python\\python312\\site-packages (from statsmodels) (23.2)\n",
            "Requirement already satisfied: python-dateutil>=2.8.2 in c:\\users\\snigd\\appdata\\local\\programs\\python\\python312\\lib\\site-packages (from pandas!=2.1.0,>=1.4->statsmodels) (2.8.2)\n",
            "Requirement already satisfied: pytz>=2020.1 in c:\\users\\snigd\\appdata\\local\\programs\\python\\python312\\lib\\site-packages (from pandas!=2.1.0,>=1.4->statsmodels) (2023.3.post1)\n",
            "Requirement already satisfied: tzdata>=2022.1 in c:\\users\\snigd\\appdata\\local\\programs\\python\\python312\\lib\\site-packages (from pandas!=2.1.0,>=1.4->statsmodels) (2023.3)\n",
            "Requirement already satisfied: six>=1.5 in c:\\users\\snigd\\appdata\\local\\programs\\python\\python312\\lib\\site-packages (from python-dateutil>=2.8.2->pandas!=2.1.0,>=1.4->statsmodels) (1.16.0)\n",
            "Downloading statsmodels-0.14.4-cp312-cp312-win_amd64.whl (9.8 MB)\n",
            "   ---------------------------------------- 0.0/9.8 MB ? eta -:--:--\n",
            "   - -------------------------------------- 0.3/9.8 MB ? eta -:--:--\n",
            "   ------ --------------------------------- 1.6/9.8 MB 4.9 MB/s eta 0:00:02\n",
            "   ---------- ----------------------------- 2.6/9.8 MB 5.0 MB/s eta 0:00:02\n",
            "   ------------- -------------------------- 3.4/9.8 MB 5.4 MB/s eta 0:00:02\n",
            "   -------------- ------------------------- 3.7/9.8 MB 4.5 MB/s eta 0:00:02\n",
            "   -------------------- ------------------- 5.0/9.8 MB 4.4 MB/s eta 0:00:02\n",
            "   ---------------------------- ----------- 7.1/9.8 MB 5.1 MB/s eta 0:00:01\n",
            "   --------------------------------- ------ 8.1/9.8 MB 5.3 MB/s eta 0:00:01\n",
            "   --------------------------------- ------ 8.1/9.8 MB 5.3 MB/s eta 0:00:01\n",
            "   --------------------------------- ------ 8.1/9.8 MB 5.3 MB/s eta 0:00:01\n",
            "   ----------------------------------- ---- 8.7/9.8 MB 3.9 MB/s eta 0:00:01\n",
            "   ------------------------------------ --- 8.9/9.8 MB 3.7 MB/s eta 0:00:01\n",
            "   ------------------------------------- -- 9.2/9.8 MB 3.5 MB/s eta 0:00:01\n",
            "   -------------------------------------- - 9.4/9.8 MB 3.3 MB/s eta 0:00:01\n",
            "   ---------------------------------------  9.7/9.8 MB 3.2 MB/s eta 0:00:01\n",
            "   ---------------------------------------- 9.8/9.8 MB 3.0 MB/s eta 0:00:00\n",
            "Downloading patsy-1.0.1-py2.py3-none-any.whl (232 kB)\n",
            "Installing collected packages: patsy, statsmodels\n",
            "Successfully installed patsy-1.0.1 statsmodels-0.14.4\n"
          ]
        }
      ],
      "source": [
        "#Import VIF\n",
        "!pip install statsmodels\n",
        "from statsmodels.stats.outliers_influence import variance_inflation_factor"
      ]
    },
    {
      "cell_type": "code",
      "execution_count": 102,
      "metadata": {
        "id": "0UyDja_0bmsI"
      },
      "outputs": [],
      "source": [
        "vif = pd.DataFrame()\n",
        "vif[\"Score\"] = [variance_inflation_factor(x_stand,i) for i in range(len(xd.keys()))]"
      ]
    },
    {
      "cell_type": "code",
      "execution_count": 103,
      "metadata": {
        "colab": {
          "base_uri": "https://localhost:8080/",
          "height": 300
        },
        "id": "Op6OyISbbshi",
        "outputId": "68455bc9-6f25-4e2a-ee5b-d77e42d31c11"
      },
      "outputs": [
        {
          "data": {
            "text/html": [
              "<div>\n",
              "<style scoped>\n",
              "    .dataframe tbody tr th:only-of-type {\n",
              "        vertical-align: middle;\n",
              "    }\n",
              "\n",
              "    .dataframe tbody tr th {\n",
              "        vertical-align: top;\n",
              "    }\n",
              "\n",
              "    .dataframe thead th {\n",
              "        text-align: right;\n",
              "    }\n",
              "</style>\n",
              "<table border=\"1\" class=\"dataframe\">\n",
              "  <thead>\n",
              "    <tr style=\"text-align: right;\">\n",
              "      <th></th>\n",
              "      <th>Score</th>\n",
              "    </tr>\n",
              "  </thead>\n",
              "  <tbody>\n",
              "    <tr>\n",
              "      <th>Accept_duration</th>\n",
              "      <td>1.332962</td>\n",
              "    </tr>\n",
              "    <tr>\n",
              "      <th>Notice_period</th>\n",
              "      <td>1.241784</td>\n",
              "    </tr>\n",
              "    <tr>\n",
              "      <th>Percent_hike_expected</th>\n",
              "      <td>16.694430</td>\n",
              "    </tr>\n",
              "    <tr>\n",
              "      <th>Percent_hike_offered</th>\n",
              "      <td>25.107837</td>\n",
              "    </tr>\n",
              "    <tr>\n",
              "      <th>Percent_difference</th>\n",
              "      <td>14.243712</td>\n",
              "    </tr>\n",
              "    <tr>\n",
              "      <th>Rex</th>\n",
              "      <td>3.072918</td>\n",
              "    </tr>\n",
              "    <tr>\n",
              "      <th>Age</th>\n",
              "      <td>1.565220</td>\n",
              "    </tr>\n",
              "    <tr>\n",
              "      <th>DOJ_extended_Yes</th>\n",
              "      <td>1.221115</td>\n",
              "    </tr>\n",
              "  </tbody>\n",
              "</table>\n",
              "</div>"
            ],
            "text/plain": [
              "                           Score\n",
              "Accept_duration         1.332962\n",
              "Notice_period           1.241784\n",
              "Percent_hike_expected  16.694430\n",
              "Percent_hike_offered   25.107837\n",
              "Percent_difference     14.243712\n",
              "Rex                     3.072918\n",
              "Age                     1.565220\n",
              "DOJ_extended_Yes        1.221115"
            ]
          },
          "execution_count": 103,
          "metadata": {},
          "output_type": "execute_result"
        }
      ],
      "source": [
        "#View VIF\n",
        "vif.index = xd.columns\n",
        "vif.head(8)"
      ]
    },
    {
      "cell_type": "markdown",
      "metadata": {
        "id": "yNzr9zRykmtd"
      },
      "source": [
        "**Precent_hike_expected**, **Percent_hike_offered**, **Percent_difference** have some **VIF** greater than 10 which are highly corelated, and sometimes the categorical values have higher VIF (inf) we can ignore them."
      ]
    },
    {
      "cell_type": "markdown",
      "metadata": {
        "id": "Atg1IGokWZEA"
      },
      "source": [
        "### using **recursive feature elimination and cross-validated** for optimal feature selection"
      ]
    },
    {
      "cell_type": "code",
      "execution_count": 104,
      "metadata": {
        "id": "dGFXWwPcTOHR"
      },
      "outputs": [],
      "source": [
        "#Importing REFCV\n",
        "from sklearn.feature_selection import RFECV"
      ]
    },
    {
      "cell_type": "code",
      "execution_count": 105,
      "metadata": {
        "colab": {
          "base_uri": "https://localhost:8080/",
          "height": 116
        },
        "id": "FKINgXyoS4KM",
        "outputId": "a7b751f3-9b89-4339-a5d7-349d7861f4b7"
      },
      "outputs": [
        {
          "data": {
            "text/html": [
              "<style>#sk-container-id-2 {\n",
              "  /* Definition of color scheme common for light and dark mode */\n",
              "  --sklearn-color-text: #000;\n",
              "  --sklearn-color-text-muted: #666;\n",
              "  --sklearn-color-line: gray;\n",
              "  /* Definition of color scheme for unfitted estimators */\n",
              "  --sklearn-color-unfitted-level-0: #fff5e6;\n",
              "  --sklearn-color-unfitted-level-1: #f6e4d2;\n",
              "  --sklearn-color-unfitted-level-2: #ffe0b3;\n",
              "  --sklearn-color-unfitted-level-3: chocolate;\n",
              "  /* Definition of color scheme for fitted estimators */\n",
              "  --sklearn-color-fitted-level-0: #f0f8ff;\n",
              "  --sklearn-color-fitted-level-1: #d4ebff;\n",
              "  --sklearn-color-fitted-level-2: #b3dbfd;\n",
              "  --sklearn-color-fitted-level-3: cornflowerblue;\n",
              "\n",
              "  /* Specific color for light theme */\n",
              "  --sklearn-color-text-on-default-background: var(--sg-text-color, var(--theme-code-foreground, var(--jp-content-font-color1, black)));\n",
              "  --sklearn-color-background: var(--sg-background-color, var(--theme-background, var(--jp-layout-color0, white)));\n",
              "  --sklearn-color-border-box: var(--sg-text-color, var(--theme-code-foreground, var(--jp-content-font-color1, black)));\n",
              "  --sklearn-color-icon: #696969;\n",
              "\n",
              "  @media (prefers-color-scheme: dark) {\n",
              "    /* Redefinition of color scheme for dark theme */\n",
              "    --sklearn-color-text-on-default-background: var(--sg-text-color, var(--theme-code-foreground, var(--jp-content-font-color1, white)));\n",
              "    --sklearn-color-background: var(--sg-background-color, var(--theme-background, var(--jp-layout-color0, #111)));\n",
              "    --sklearn-color-border-box: var(--sg-text-color, var(--theme-code-foreground, var(--jp-content-font-color1, white)));\n",
              "    --sklearn-color-icon: #878787;\n",
              "  }\n",
              "}\n",
              "\n",
              "#sk-container-id-2 {\n",
              "  color: var(--sklearn-color-text);\n",
              "}\n",
              "\n",
              "#sk-container-id-2 pre {\n",
              "  padding: 0;\n",
              "}\n",
              "\n",
              "#sk-container-id-2 input.sk-hidden--visually {\n",
              "  border: 0;\n",
              "  clip: rect(1px 1px 1px 1px);\n",
              "  clip: rect(1px, 1px, 1px, 1px);\n",
              "  height: 1px;\n",
              "  margin: -1px;\n",
              "  overflow: hidden;\n",
              "  padding: 0;\n",
              "  position: absolute;\n",
              "  width: 1px;\n",
              "}\n",
              "\n",
              "#sk-container-id-2 div.sk-dashed-wrapped {\n",
              "  border: 1px dashed var(--sklearn-color-line);\n",
              "  margin: 0 0.4em 0.5em 0.4em;\n",
              "  box-sizing: border-box;\n",
              "  padding-bottom: 0.4em;\n",
              "  background-color: var(--sklearn-color-background);\n",
              "}\n",
              "\n",
              "#sk-container-id-2 div.sk-container {\n",
              "  /* jupyter's `normalize.less` sets `[hidden] { display: none; }`\n",
              "     but bootstrap.min.css set `[hidden] { display: none !important; }`\n",
              "     so we also need the `!important` here to be able to override the\n",
              "     default hidden behavior on the sphinx rendered scikit-learn.org.\n",
              "     See: https://github.com/scikit-learn/scikit-learn/issues/21755 */\n",
              "  display: inline-block !important;\n",
              "  position: relative;\n",
              "}\n",
              "\n",
              "#sk-container-id-2 div.sk-text-repr-fallback {\n",
              "  display: none;\n",
              "}\n",
              "\n",
              "div.sk-parallel-item,\n",
              "div.sk-serial,\n",
              "div.sk-item {\n",
              "  /* draw centered vertical line to link estimators */\n",
              "  background-image: linear-gradient(var(--sklearn-color-text-on-default-background), var(--sklearn-color-text-on-default-background));\n",
              "  background-size: 2px 100%;\n",
              "  background-repeat: no-repeat;\n",
              "  background-position: center center;\n",
              "}\n",
              "\n",
              "/* Parallel-specific style estimator block */\n",
              "\n",
              "#sk-container-id-2 div.sk-parallel-item::after {\n",
              "  content: \"\";\n",
              "  width: 100%;\n",
              "  border-bottom: 2px solid var(--sklearn-color-text-on-default-background);\n",
              "  flex-grow: 1;\n",
              "}\n",
              "\n",
              "#sk-container-id-2 div.sk-parallel {\n",
              "  display: flex;\n",
              "  align-items: stretch;\n",
              "  justify-content: center;\n",
              "  background-color: var(--sklearn-color-background);\n",
              "  position: relative;\n",
              "}\n",
              "\n",
              "#sk-container-id-2 div.sk-parallel-item {\n",
              "  display: flex;\n",
              "  flex-direction: column;\n",
              "}\n",
              "\n",
              "#sk-container-id-2 div.sk-parallel-item:first-child::after {\n",
              "  align-self: flex-end;\n",
              "  width: 50%;\n",
              "}\n",
              "\n",
              "#sk-container-id-2 div.sk-parallel-item:last-child::after {\n",
              "  align-self: flex-start;\n",
              "  width: 50%;\n",
              "}\n",
              "\n",
              "#sk-container-id-2 div.sk-parallel-item:only-child::after {\n",
              "  width: 0;\n",
              "}\n",
              "\n",
              "/* Serial-specific style estimator block */\n",
              "\n",
              "#sk-container-id-2 div.sk-serial {\n",
              "  display: flex;\n",
              "  flex-direction: column;\n",
              "  align-items: center;\n",
              "  background-color: var(--sklearn-color-background);\n",
              "  padding-right: 1em;\n",
              "  padding-left: 1em;\n",
              "}\n",
              "\n",
              "\n",
              "/* Toggleable style: style used for estimator/Pipeline/ColumnTransformer box that is\n",
              "clickable and can be expanded/collapsed.\n",
              "- Pipeline and ColumnTransformer use this feature and define the default style\n",
              "- Estimators will overwrite some part of the style using the `sk-estimator` class\n",
              "*/\n",
              "\n",
              "/* Pipeline and ColumnTransformer style (default) */\n",
              "\n",
              "#sk-container-id-2 div.sk-toggleable {\n",
              "  /* Default theme specific background. It is overwritten whether we have a\n",
              "  specific estimator or a Pipeline/ColumnTransformer */\n",
              "  background-color: var(--sklearn-color-background);\n",
              "}\n",
              "\n",
              "/* Toggleable label */\n",
              "#sk-container-id-2 label.sk-toggleable__label {\n",
              "  cursor: pointer;\n",
              "  display: flex;\n",
              "  width: 100%;\n",
              "  margin-bottom: 0;\n",
              "  padding: 0.5em;\n",
              "  box-sizing: border-box;\n",
              "  text-align: center;\n",
              "  align-items: start;\n",
              "  justify-content: space-between;\n",
              "  gap: 0.5em;\n",
              "}\n",
              "\n",
              "#sk-container-id-2 label.sk-toggleable__label .caption {\n",
              "  font-size: 0.6rem;\n",
              "  font-weight: lighter;\n",
              "  color: var(--sklearn-color-text-muted);\n",
              "}\n",
              "\n",
              "#sk-container-id-2 label.sk-toggleable__label-arrow:before {\n",
              "  /* Arrow on the left of the label */\n",
              "  content: \"▸\";\n",
              "  float: left;\n",
              "  margin-right: 0.25em;\n",
              "  color: var(--sklearn-color-icon);\n",
              "}\n",
              "\n",
              "#sk-container-id-2 label.sk-toggleable__label-arrow:hover:before {\n",
              "  color: var(--sklearn-color-text);\n",
              "}\n",
              "\n",
              "/* Toggleable content - dropdown */\n",
              "\n",
              "#sk-container-id-2 div.sk-toggleable__content {\n",
              "  max-height: 0;\n",
              "  max-width: 0;\n",
              "  overflow: hidden;\n",
              "  text-align: left;\n",
              "  /* unfitted */\n",
              "  background-color: var(--sklearn-color-unfitted-level-0);\n",
              "}\n",
              "\n",
              "#sk-container-id-2 div.sk-toggleable__content.fitted {\n",
              "  /* fitted */\n",
              "  background-color: var(--sklearn-color-fitted-level-0);\n",
              "}\n",
              "\n",
              "#sk-container-id-2 div.sk-toggleable__content pre {\n",
              "  margin: 0.2em;\n",
              "  border-radius: 0.25em;\n",
              "  color: var(--sklearn-color-text);\n",
              "  /* unfitted */\n",
              "  background-color: var(--sklearn-color-unfitted-level-0);\n",
              "}\n",
              "\n",
              "#sk-container-id-2 div.sk-toggleable__content.fitted pre {\n",
              "  /* unfitted */\n",
              "  background-color: var(--sklearn-color-fitted-level-0);\n",
              "}\n",
              "\n",
              "#sk-container-id-2 input.sk-toggleable__control:checked~div.sk-toggleable__content {\n",
              "  /* Expand drop-down */\n",
              "  max-height: 200px;\n",
              "  max-width: 100%;\n",
              "  overflow: auto;\n",
              "}\n",
              "\n",
              "#sk-container-id-2 input.sk-toggleable__control:checked~label.sk-toggleable__label-arrow:before {\n",
              "  content: \"▾\";\n",
              "}\n",
              "\n",
              "/* Pipeline/ColumnTransformer-specific style */\n",
              "\n",
              "#sk-container-id-2 div.sk-label input.sk-toggleable__control:checked~label.sk-toggleable__label {\n",
              "  color: var(--sklearn-color-text);\n",
              "  background-color: var(--sklearn-color-unfitted-level-2);\n",
              "}\n",
              "\n",
              "#sk-container-id-2 div.sk-label.fitted input.sk-toggleable__control:checked~label.sk-toggleable__label {\n",
              "  background-color: var(--sklearn-color-fitted-level-2);\n",
              "}\n",
              "\n",
              "/* Estimator-specific style */\n",
              "\n",
              "/* Colorize estimator box */\n",
              "#sk-container-id-2 div.sk-estimator input.sk-toggleable__control:checked~label.sk-toggleable__label {\n",
              "  /* unfitted */\n",
              "  background-color: var(--sklearn-color-unfitted-level-2);\n",
              "}\n",
              "\n",
              "#sk-container-id-2 div.sk-estimator.fitted input.sk-toggleable__control:checked~label.sk-toggleable__label {\n",
              "  /* fitted */\n",
              "  background-color: var(--sklearn-color-fitted-level-2);\n",
              "}\n",
              "\n",
              "#sk-container-id-2 div.sk-label label.sk-toggleable__label,\n",
              "#sk-container-id-2 div.sk-label label {\n",
              "  /* The background is the default theme color */\n",
              "  color: var(--sklearn-color-text-on-default-background);\n",
              "}\n",
              "\n",
              "/* On hover, darken the color of the background */\n",
              "#sk-container-id-2 div.sk-label:hover label.sk-toggleable__label {\n",
              "  color: var(--sklearn-color-text);\n",
              "  background-color: var(--sklearn-color-unfitted-level-2);\n",
              "}\n",
              "\n",
              "/* Label box, darken color on hover, fitted */\n",
              "#sk-container-id-2 div.sk-label.fitted:hover label.sk-toggleable__label.fitted {\n",
              "  color: var(--sklearn-color-text);\n",
              "  background-color: var(--sklearn-color-fitted-level-2);\n",
              "}\n",
              "\n",
              "/* Estimator label */\n",
              "\n",
              "#sk-container-id-2 div.sk-label label {\n",
              "  font-family: monospace;\n",
              "  font-weight: bold;\n",
              "  display: inline-block;\n",
              "  line-height: 1.2em;\n",
              "}\n",
              "\n",
              "#sk-container-id-2 div.sk-label-container {\n",
              "  text-align: center;\n",
              "}\n",
              "\n",
              "/* Estimator-specific */\n",
              "#sk-container-id-2 div.sk-estimator {\n",
              "  font-family: monospace;\n",
              "  border: 1px dotted var(--sklearn-color-border-box);\n",
              "  border-radius: 0.25em;\n",
              "  box-sizing: border-box;\n",
              "  margin-bottom: 0.5em;\n",
              "  /* unfitted */\n",
              "  background-color: var(--sklearn-color-unfitted-level-0);\n",
              "}\n",
              "\n",
              "#sk-container-id-2 div.sk-estimator.fitted {\n",
              "  /* fitted */\n",
              "  background-color: var(--sklearn-color-fitted-level-0);\n",
              "}\n",
              "\n",
              "/* on hover */\n",
              "#sk-container-id-2 div.sk-estimator:hover {\n",
              "  /* unfitted */\n",
              "  background-color: var(--sklearn-color-unfitted-level-2);\n",
              "}\n",
              "\n",
              "#sk-container-id-2 div.sk-estimator.fitted:hover {\n",
              "  /* fitted */\n",
              "  background-color: var(--sklearn-color-fitted-level-2);\n",
              "}\n",
              "\n",
              "/* Specification for estimator info (e.g. \"i\" and \"?\") */\n",
              "\n",
              "/* Common style for \"i\" and \"?\" */\n",
              "\n",
              ".sk-estimator-doc-link,\n",
              "a:link.sk-estimator-doc-link,\n",
              "a:visited.sk-estimator-doc-link {\n",
              "  float: right;\n",
              "  font-size: smaller;\n",
              "  line-height: 1em;\n",
              "  font-family: monospace;\n",
              "  background-color: var(--sklearn-color-background);\n",
              "  border-radius: 1em;\n",
              "  height: 1em;\n",
              "  width: 1em;\n",
              "  text-decoration: none !important;\n",
              "  margin-left: 0.5em;\n",
              "  text-align: center;\n",
              "  /* unfitted */\n",
              "  border: var(--sklearn-color-unfitted-level-1) 1pt solid;\n",
              "  color: var(--sklearn-color-unfitted-level-1);\n",
              "}\n",
              "\n",
              ".sk-estimator-doc-link.fitted,\n",
              "a:link.sk-estimator-doc-link.fitted,\n",
              "a:visited.sk-estimator-doc-link.fitted {\n",
              "  /* fitted */\n",
              "  border: var(--sklearn-color-fitted-level-1) 1pt solid;\n",
              "  color: var(--sklearn-color-fitted-level-1);\n",
              "}\n",
              "\n",
              "/* On hover */\n",
              "div.sk-estimator:hover .sk-estimator-doc-link:hover,\n",
              ".sk-estimator-doc-link:hover,\n",
              "div.sk-label-container:hover .sk-estimator-doc-link:hover,\n",
              ".sk-estimator-doc-link:hover {\n",
              "  /* unfitted */\n",
              "  background-color: var(--sklearn-color-unfitted-level-3);\n",
              "  color: var(--sklearn-color-background);\n",
              "  text-decoration: none;\n",
              "}\n",
              "\n",
              "div.sk-estimator.fitted:hover .sk-estimator-doc-link.fitted:hover,\n",
              ".sk-estimator-doc-link.fitted:hover,\n",
              "div.sk-label-container:hover .sk-estimator-doc-link.fitted:hover,\n",
              ".sk-estimator-doc-link.fitted:hover {\n",
              "  /* fitted */\n",
              "  background-color: var(--sklearn-color-fitted-level-3);\n",
              "  color: var(--sklearn-color-background);\n",
              "  text-decoration: none;\n",
              "}\n",
              "\n",
              "/* Span, style for the box shown on hovering the info icon */\n",
              ".sk-estimator-doc-link span {\n",
              "  display: none;\n",
              "  z-index: 9999;\n",
              "  position: relative;\n",
              "  font-weight: normal;\n",
              "  right: .2ex;\n",
              "  padding: .5ex;\n",
              "  margin: .5ex;\n",
              "  width: min-content;\n",
              "  min-width: 20ex;\n",
              "  max-width: 50ex;\n",
              "  color: var(--sklearn-color-text);\n",
              "  box-shadow: 2pt 2pt 4pt #999;\n",
              "  /* unfitted */\n",
              "  background: var(--sklearn-color-unfitted-level-0);\n",
              "  border: .5pt solid var(--sklearn-color-unfitted-level-3);\n",
              "}\n",
              "\n",
              ".sk-estimator-doc-link.fitted span {\n",
              "  /* fitted */\n",
              "  background: var(--sklearn-color-fitted-level-0);\n",
              "  border: var(--sklearn-color-fitted-level-3);\n",
              "}\n",
              "\n",
              ".sk-estimator-doc-link:hover span {\n",
              "  display: block;\n",
              "}\n",
              "\n",
              "/* \"?\"-specific style due to the `<a>` HTML tag */\n",
              "\n",
              "#sk-container-id-2 a.estimator_doc_link {\n",
              "  float: right;\n",
              "  font-size: 1rem;\n",
              "  line-height: 1em;\n",
              "  font-family: monospace;\n",
              "  background-color: var(--sklearn-color-background);\n",
              "  border-radius: 1rem;\n",
              "  height: 1rem;\n",
              "  width: 1rem;\n",
              "  text-decoration: none;\n",
              "  /* unfitted */\n",
              "  color: var(--sklearn-color-unfitted-level-1);\n",
              "  border: var(--sklearn-color-unfitted-level-1) 1pt solid;\n",
              "}\n",
              "\n",
              "#sk-container-id-2 a.estimator_doc_link.fitted {\n",
              "  /* fitted */\n",
              "  border: var(--sklearn-color-fitted-level-1) 1pt solid;\n",
              "  color: var(--sklearn-color-fitted-level-1);\n",
              "}\n",
              "\n",
              "/* On hover */\n",
              "#sk-container-id-2 a.estimator_doc_link:hover {\n",
              "  /* unfitted */\n",
              "  background-color: var(--sklearn-color-unfitted-level-3);\n",
              "  color: var(--sklearn-color-background);\n",
              "  text-decoration: none;\n",
              "}\n",
              "\n",
              "#sk-container-id-2 a.estimator_doc_link.fitted:hover {\n",
              "  /* fitted */\n",
              "  background-color: var(--sklearn-color-fitted-level-3);\n",
              "}\n",
              "</style><div id=\"sk-container-id-2\" class=\"sk-top-container\"><div class=\"sk-text-repr-fallback\"><pre>RFECV(cv=10, estimator=LogisticRegression(), scoring=&#x27;average_precision&#x27;)</pre><b>In a Jupyter environment, please rerun this cell to show the HTML representation or trust the notebook. <br />On GitHub, the HTML representation is unable to render, please try loading this page with nbviewer.org.</b></div><div class=\"sk-container\" hidden><div class=\"sk-item sk-dashed-wrapped\"><div class=\"sk-label-container\"><div class=\"sk-label fitted sk-toggleable\"><input class=\"sk-toggleable__control sk-hidden--visually\" id=\"sk-estimator-id-2\" type=\"checkbox\" ><label for=\"sk-estimator-id-2\" class=\"sk-toggleable__label fitted sk-toggleable__label-arrow\"><div><div>RFECV</div></div><div><a class=\"sk-estimator-doc-link fitted\" rel=\"noreferrer\" target=\"_blank\" href=\"https://scikit-learn.org/1.6/modules/generated/sklearn.feature_selection.RFECV.html\">?<span>Documentation for RFECV</span></a><span class=\"sk-estimator-doc-link fitted\">i<span>Fitted</span></span></div></label><div class=\"sk-toggleable__content fitted\"><pre>RFECV(cv=10, estimator=LogisticRegression(), scoring=&#x27;average_precision&#x27;)</pre></div> </div></div><div class=\"sk-parallel\"><div class=\"sk-parallel-item\"><div class=\"sk-item\"><div class=\"sk-label-container\"><div class=\"sk-label fitted sk-toggleable\"><input class=\"sk-toggleable__control sk-hidden--visually\" id=\"sk-estimator-id-3\" type=\"checkbox\" ><label for=\"sk-estimator-id-3\" class=\"sk-toggleable__label fitted sk-toggleable__label-arrow\"><div><div>estimator: LogisticRegression</div></div></label><div class=\"sk-toggleable__content fitted\"><pre>LogisticRegression()</pre></div> </div></div><div class=\"sk-serial\"><div class=\"sk-item\"><div class=\"sk-estimator fitted sk-toggleable\"><input class=\"sk-toggleable__control sk-hidden--visually\" id=\"sk-estimator-id-4\" type=\"checkbox\" ><label for=\"sk-estimator-id-4\" class=\"sk-toggleable__label fitted sk-toggleable__label-arrow\"><div><div>LogisticRegression</div></div><div><a class=\"sk-estimator-doc-link fitted\" rel=\"noreferrer\" target=\"_blank\" href=\"https://scikit-learn.org/1.6/modules/generated/sklearn.linear_model.LogisticRegression.html\">?<span>Documentation for LogisticRegression</span></a></div></label><div class=\"sk-toggleable__content fitted\"><pre>LogisticRegression()</pre></div> </div></div></div></div></div></div></div></div></div>"
            ],
            "text/plain": [
              "RFECV(cv=10, estimator=LogisticRegression(), scoring='average_precision')"
            ]
          },
          "execution_count": 105,
          "metadata": {},
          "output_type": "execute_result"
        }
      ],
      "source": [
        "#Using estimator as LogisticsRegression with Step1 and cross-validation of 10 scoring metric as average_precision\n",
        "rfecv = RFECV(estimator=LogisticRegression(), step=1, cv=10, scoring='average_precision')\n",
        "rfecv.fit(xd, y)"
      ]
    },
    {
      "cell_type": "code",
      "execution_count": 106,
      "metadata": {
        "colab": {
          "base_uri": "https://localhost:8080/",
          "height": 487
        },
        "id": "puFmC7PWXKQ3",
        "outputId": "c8cf6fdb-6874-4de2-ec8e-ebd3968a1ce0"
      },
      "outputs": [
        {
          "data": {
            "image/png": "[encoded data removed]",
            "text/plain": [
              "<Figure size 1000x500 with 1 Axes>"
            ]
          },
          "metadata": {},
          "output_type": "display_data"
        }
      ],
      "source": [
        "plt.figure(figsize=(10,5))\n",
        "plt.title('Logistic Regression CV score vs No of Features')\n",
        "plt.xlabel(\"Number of features selected\")\n",
        "plt.ylabel(\"Cross validation score\")\n",
        "# plt.plot(range(1, len(rfecv.grid_scores_) + 1), rfecv.grid_scores_)\n",
        "\n",
        "plt.plot(range(1, len(rfecv.cv_results_['mean_test_score']) + 1), rfecv.cv_results_['mean_test_score'])\n",
        "plt.show()"
      ]
    },
    {
      "cell_type": "code",
      "execution_count": 107,
      "metadata": {
        "colab": {
          "base_uri": "https://localhost:8080/"
        },
        "id": "aLBEUCvWXWGK",
        "outputId": "d93a775b-3298-491d-ed47-3e62d6563684"
      },
      "outputs": [
        {
          "name": "stdout",
          "output_type": "stream",
          "text": [
            "No of Features = 34\n",
            "No of Feature Selected = 34\n",
            " ['Accept_duration', 'Notice_period', 'Percent_hike_expected', 'Percent_hike_offered', 'Percent_difference', 'Rex', 'Age', 'DOJ_extended_Yes', 'Offered_band_E1', 'Offered_band_E2', 'Offered_band_E3', 'Joining_Bonus_Yes', 'Relocated_Yes', 'Gender_Male', 'Source_Direct', 'Source_Employee Referral', 'LOB_BFSI', 'LOB_CSMP', 'LOB_EAS', 'LOB_ERS', 'LOB_ETS', 'LOB_Healthcare', 'LOB_INFRA', 'LOB_MMS', 'Location_Bangalore', 'Location_Chennai', 'Location_Cochin', 'Location_Gurgaon', 'Location_Hyderabad', 'Location_Kolkata', 'Location_Mumbai', 'Location_Noida', 'Location_Others', 'Location_Pune'] \n"
          ]
        }
      ],
      "source": [
        "#Getting the selected features\n",
        "feature_names = xd.columns\n",
        "selected_features = feature_names[rfecv.support_].tolist()\n",
        "print(\"No of Features = {}\\nNo of Feature Selected = {}\\n {} \".format(len(feature_names),len(selected_features),selected_features))"
      ]
    },
    {
      "cell_type": "code",
      "execution_count": 108,
      "metadata": {
        "id": "e3h6tTzaYU1e"
      },
      "outputs": [],
      "source": [
        "#New dataframe using the selected features\n",
        "xf = xd[['Notice_period', 'Percent_hike_expected', 'Percent_hike_offered', 'Percent_difference', 'Rex', 'Age', 'DOJ_extended_Yes',\n",
        "         'Offered_band_E1', 'Offered_band_E2', 'Offered_band_E3', 'Joining_Bonus_Yes', 'Relocated_Yes',\n",
        "         'Gender_Male', 'Source_Direct', 'Source_Employee Referral', 'LOB_BFSI', 'LOB_CSMP', 'LOB_EAS', 'LOB_ERS', 'LOB_ETS',\n",
        "         'LOB_Healthcare', 'LOB_INFRA', 'LOB_MMS', 'Location_Bangalore', 'Location_Chennai', 'Location_Cochin', 'Location_Gurgaon',\n",
        "         'Location_Hyderabad', 'Location_Kolkata', 'Location_Mumbai', 'Location_Noida', 'Location_Others', 'Location_Pune']]"
      ]
    },
    {
      "cell_type": "code",
      "execution_count": 109,
      "metadata": {
        "colab": {
          "base_uri": "https://localhost:8080/",
          "height": 192
        },
        "id": "M_-j6Czzag8g",
        "outputId": "fc8e3718-b731-49bd-ae2a-2cca371d4d09"
      },
      "outputs": [
        {
          "data": {
            "text/html": [
              "<div>\n",
              "<style scoped>\n",
              "    .dataframe tbody tr th:only-of-type {\n",
              "        vertical-align: middle;\n",
              "    }\n",
              "\n",
              "    .dataframe tbody tr th {\n",
              "        vertical-align: top;\n",
              "    }\n",
              "\n",
              "    .dataframe thead th {\n",
              "        text-align: right;\n",
              "    }\n",
              "</style>\n",
              "<table border=\"1\" class=\"dataframe\">\n",
              "  <thead>\n",
              "    <tr style=\"text-align: right;\">\n",
              "      <th></th>\n",
              "      <th>Notice_period</th>\n",
              "      <th>Percent_hike_expected</th>\n",
              "      <th>Percent_hike_offered</th>\n",
              "      <th>Percent_difference</th>\n",
              "      <th>Rex</th>\n",
              "      <th>Age</th>\n",
              "      <th>DOJ_extended_Yes</th>\n",
              "      <th>Offered_band_E1</th>\n",
              "      <th>Offered_band_E2</th>\n",
              "      <th>Offered_band_E3</th>\n",
              "      <th>...</th>\n",
              "      <th>Location_Bangalore</th>\n",
              "      <th>Location_Chennai</th>\n",
              "      <th>Location_Cochin</th>\n",
              "      <th>Location_Gurgaon</th>\n",
              "      <th>Location_Hyderabad</th>\n",
              "      <th>Location_Kolkata</th>\n",
              "      <th>Location_Mumbai</th>\n",
              "      <th>Location_Noida</th>\n",
              "      <th>Location_Others</th>\n",
              "      <th>Location_Pune</th>\n",
              "    </tr>\n",
              "  </thead>\n",
              "  <tbody>\n",
              "    <tr>\n",
              "      <th>0</th>\n",
              "      <td>30</td>\n",
              "      <td>-20.79</td>\n",
              "      <td>13.16</td>\n",
              "      <td>42.86</td>\n",
              "      <td>7</td>\n",
              "      <td>34</td>\n",
              "      <td>True</td>\n",
              "      <td>False</td>\n",
              "      <td>True</td>\n",
              "      <td>False</td>\n",
              "      <td>...</td>\n",
              "      <td>False</td>\n",
              "      <td>False</td>\n",
              "      <td>False</td>\n",
              "      <td>False</td>\n",
              "      <td>False</td>\n",
              "      <td>False</td>\n",
              "      <td>False</td>\n",
              "      <td>True</td>\n",
              "      <td>False</td>\n",
              "      <td>False</td>\n",
              "    </tr>\n",
              "    <tr>\n",
              "      <th>1</th>\n",
              "      <td>30</td>\n",
              "      <td>50.00</td>\n",
              "      <td>320.00</td>\n",
              "      <td>180.00</td>\n",
              "      <td>8</td>\n",
              "      <td>34</td>\n",
              "      <td>False</td>\n",
              "      <td>False</td>\n",
              "      <td>True</td>\n",
              "      <td>False</td>\n",
              "      <td>...</td>\n",
              "      <td>False</td>\n",
              "      <td>True</td>\n",
              "      <td>False</td>\n",
              "      <td>False</td>\n",
              "      <td>False</td>\n",
              "      <td>False</td>\n",
              "      <td>False</td>\n",
              "      <td>False</td>\n",
              "      <td>False</td>\n",
              "      <td>False</td>\n",
              "    </tr>\n",
              "    <tr>\n",
              "      <th>2</th>\n",
              "      <td>45</td>\n",
              "      <td>42.84</td>\n",
              "      <td>42.84</td>\n",
              "      <td>0.00</td>\n",
              "      <td>4</td>\n",
              "      <td>27</td>\n",
              "      <td>False</td>\n",
              "      <td>False</td>\n",
              "      <td>True</td>\n",
              "      <td>False</td>\n",
              "      <td>...</td>\n",
              "      <td>False</td>\n",
              "      <td>False</td>\n",
              "      <td>False</td>\n",
              "      <td>False</td>\n",
              "      <td>False</td>\n",
              "      <td>False</td>\n",
              "      <td>False</td>\n",
              "      <td>True</td>\n",
              "      <td>False</td>\n",
              "      <td>False</td>\n",
              "    </tr>\n",
              "  </tbody>\n",
              "</table>\n",
              "<p>3 rows × 33 columns</p>\n",
              "</div>"
            ],
            "text/plain": [
              "   Notice_period  Percent_hike_expected  Percent_hike_offered  \\\n",
              "0             30                 -20.79                 13.16   \n",
              "1             30                  50.00                320.00   \n",
              "2             45                  42.84                 42.84   \n",
              "\n",
              "   Percent_difference  Rex  Age  DOJ_extended_Yes  Offered_band_E1  \\\n",
              "0               42.86    7   34              True            False   \n",
              "1              180.00    8   34             False            False   \n",
              "2                0.00    4   27             False            False   \n",
              "\n",
              "   Offered_band_E2  Offered_band_E3  ...  Location_Bangalore  \\\n",
              "0             True            False  ...               False   \n",
              "1             True            False  ...               False   \n",
              "2             True            False  ...               False   \n",
              "\n",
              "   Location_Chennai  Location_Cochin  Location_Gurgaon  Location_Hyderabad  \\\n",
              "0             False            False             False               False   \n",
              "1              True            False             False               False   \n",
              "2             False            False             False               False   \n",
              "\n",
              "   Location_Kolkata  Location_Mumbai  Location_Noida  Location_Others  \\\n",
              "0             False            False            True            False   \n",
              "1             False            False           False            False   \n",
              "2             False            False            True            False   \n",
              "\n",
              "   Location_Pune  \n",
              "0          False  \n",
              "1          False  \n",
              "2          False  \n",
              "\n",
              "[3 rows x 33 columns]"
            ]
          },
          "execution_count": 109,
          "metadata": {},
          "output_type": "execute_result"
        }
      ],
      "source": [
        "#View\n",
        "xf.head(3)"
      ]
    },
    {
      "cell_type": "code",
      "execution_count": 110,
      "metadata": {
        "id": "Jn02fMJTalAZ"
      },
      "outputs": [],
      "source": [
        "#Resampling with the selected features\n",
        "xf_re,y_re = SMOTE(k_neighbors=5).fit_resample(xf,y)"
      ]
    },
    {
      "cell_type": "code",
      "execution_count": 111,
      "metadata": {
        "id": "uzBm9JnVbnR3"
      },
      "outputs": [],
      "source": [
        "#Spliting to train,test\n",
        "xf_train,xf_test,yf_train,yf_test = train_test_split(xf_re,y_re,test_size=0.2)"
      ]
    },
    {
      "cell_type": "code",
      "execution_count": 112,
      "metadata": {
        "colab": {
          "base_uri": "https://localhost:8080/"
        },
        "id": "3d65fudobnSI",
        "outputId": "1ce1fd4b-8419-41d1-f207-643bdc13264f"
      },
      "outputs": [
        {
          "data": {
            "text/plain": [
              "((11700, 33), (2926, 33), (11700,), (2926,))"
            ]
          },
          "execution_count": 112,
          "metadata": {},
          "output_type": "execute_result"
        }
      ],
      "source": [
        "#Checking shape of train,test\n",
        "xf_train.shape,xf_test.shape,yf_train.shape,yf_test.shape"
      ]
    },
    {
      "cell_type": "code",
      "execution_count": 113,
      "metadata": {
        "id": "YiocEhuycK2M"
      },
      "outputs": [],
      "source": [
        "#model_2 as Logistic class\n",
        "model_2 = LogisticRegression()"
      ]
    },
    {
      "cell_type": "code",
      "execution_count": 114,
      "metadata": {
        "colab": {
          "base_uri": "https://localhost:8080/",
          "height": 74
        },
        "id": "Fw-h5XMScK2j",
        "outputId": "b86ca8e4-2386-4457-c91a-c5cf7920b407"
      },
      "outputs": [
        {
          "data": {
            "text/html": [
              "<style>#sk-container-id-3 {\n",
              "  /* Definition of color scheme common for light and dark mode */\n",
              "  --sklearn-color-text: #000;\n",
              "  --sklearn-color-text-muted: #666;\n",
              "  --sklearn-color-line: gray;\n",
              "  /* Definition of color scheme for unfitted estimators */\n",
              "  --sklearn-color-unfitted-level-0: #fff5e6;\n",
              "  --sklearn-color-unfitted-level-1: #f6e4d2;\n",
              "  --sklearn-color-unfitted-level-2: #ffe0b3;\n",
              "  --sklearn-color-unfitted-level-3: chocolate;\n",
              "  /* Definition of color scheme for fitted estimators */\n",
              "  --sklearn-color-fitted-level-0: #f0f8ff;\n",
              "  --sklearn-color-fitted-level-1: #d4ebff;\n",
              "  --sklearn-color-fitted-level-2: #b3dbfd;\n",
              "  --sklearn-color-fitted-level-3: cornflowerblue;\n",
              "\n",
              "  /* Specific color for light theme */\n",
              "  --sklearn-color-text-on-default-background: var(--sg-text-color, var(--theme-code-foreground, var(--jp-content-font-color1, black)));\n",
              "  --sklearn-color-background: var(--sg-background-color, var(--theme-background, var(--jp-layout-color0, white)));\n",
              "  --sklearn-color-border-box: var(--sg-text-color, var(--theme-code-foreground, var(--jp-content-font-color1, black)));\n",
              "  --sklearn-color-icon: #696969;\n",
              "\n",
              "  @media (prefers-color-scheme: dark) {\n",
              "    /* Redefinition of color scheme for dark theme */\n",
              "    --sklearn-color-text-on-default-background: var(--sg-text-color, var(--theme-code-foreground, var(--jp-content-font-color1, white)));\n",
              "    --sklearn-color-background: var(--sg-background-color, var(--theme-background, var(--jp-layout-color0, #111)));\n",
              "    --sklearn-color-border-box: var(--sg-text-color, var(--theme-code-foreground, var(--jp-content-font-color1, white)));\n",
              "    --sklearn-color-icon: #878787;\n",
              "  }\n",
              "}\n",
              "\n",
              "#sk-container-id-3 {\n",
              "  color: var(--sklearn-color-text);\n",
              "}\n",
              "\n",
              "#sk-container-id-3 pre {\n",
              "  padding: 0;\n",
              "}\n",
              "\n",
              "#sk-container-id-3 input.sk-hidden--visually {\n",
              "  border: 0;\n",
              "  clip: rect(1px 1px 1px 1px);\n",
              "  clip: rect(1px, 1px, 1px, 1px);\n",
              "  height: 1px;\n",
              "  margin: -1px;\n",
              "  overflow: hidden;\n",
              "  padding: 0;\n",
              "  position: absolute;\n",
              "  width: 1px;\n",
              "}\n",
              "\n",
              "#sk-container-id-3 div.sk-dashed-wrapped {\n",
              "  border: 1px dashed var(--sklearn-color-line);\n",
              "  margin: 0 0.4em 0.5em 0.4em;\n",
              "  box-sizing: border-box;\n",
              "  padding-bottom: 0.4em;\n",
              "  background-color: var(--sklearn-color-background);\n",
              "}\n",
              "\n",
              "#sk-container-id-3 div.sk-container {\n",
              "  /* jupyter's `normalize.less` sets `[hidden] { display: none; }`\n",
              "     but bootstrap.min.css set `[hidden] { display: none !important; }`\n",
              "     so we also need the `!important` here to be able to override the\n",
              "     default hidden behavior on the sphinx rendered scikit-learn.org.\n",
              "     See: https://github.com/scikit-learn/scikit-learn/issues/21755 */\n",
              "  display: inline-block !important;\n",
              "  position: relative;\n",
              "}\n",
              "\n",
              "#sk-container-id-3 div.sk-text-repr-fallback {\n",
              "  display: none;\n",
              "}\n",
              "\n",
              "div.sk-parallel-item,\n",
              "div.sk-serial,\n",
              "div.sk-item {\n",
              "  /* draw centered vertical line to link estimators */\n",
              "  background-image: linear-gradient(var(--sklearn-color-text-on-default-background), var(--sklearn-color-text-on-default-background));\n",
              "  background-size: 2px 100%;\n",
              "  background-repeat: no-repeat;\n",
              "  background-position: center center;\n",
              "}\n",
              "\n",
              "/* Parallel-specific style estimator block */\n",
              "\n",
              "#sk-container-id-3 div.sk-parallel-item::after {\n",
              "  content: \"\";\n",
              "  width: 100%;\n",
              "  border-bottom: 2px solid var(--sklearn-color-text-on-default-background);\n",
              "  flex-grow: 1;\n",
              "}\n",
              "\n",
              "#sk-container-id-3 div.sk-parallel {\n",
              "  display: flex;\n",
              "  align-items: stretch;\n",
              "  justify-content: center;\n",
              "  background-color: var(--sklearn-color-background);\n",
              "  position: relative;\n",
              "}\n",
              "\n",
              "#sk-container-id-3 div.sk-parallel-item {\n",
              "  display: flex;\n",
              "  flex-direction: column;\n",
              "}\n",
              "\n",
              "#sk-container-id-3 div.sk-parallel-item:first-child::after {\n",
              "  align-self: flex-end;\n",
              "  width: 50%;\n",
              "}\n",
              "\n",
              "#sk-container-id-3 div.sk-parallel-item:last-child::after {\n",
              "  align-self: flex-start;\n",
              "  width: 50%;\n",
              "}\n",
              "\n",
              "#sk-container-id-3 div.sk-parallel-item:only-child::after {\n",
              "  width: 0;\n",
              "}\n",
              "\n",
              "/* Serial-specific style estimator block */\n",
              "\n",
              "#sk-container-id-3 div.sk-serial {\n",
              "  display: flex;\n",
              "  flex-direction: column;\n",
              "  align-items: center;\n",
              "  background-color: var(--sklearn-color-background);\n",
              "  padding-right: 1em;\n",
              "  padding-left: 1em;\n",
              "}\n",
              "\n",
              "\n",
              "/* Toggleable style: style used for estimator/Pipeline/ColumnTransformer box that is\n",
              "clickable and can be expanded/collapsed.\n",
              "- Pipeline and ColumnTransformer use this feature and define the default style\n",
              "- Estimators will overwrite some part of the style using the `sk-estimator` class\n",
              "*/\n",
              "\n",
              "/* Pipeline and ColumnTransformer style (default) */\n",
              "\n",
              "#sk-container-id-3 div.sk-toggleable {\n",
              "  /* Default theme specific background. It is overwritten whether we have a\n",
              "  specific estimator or a Pipeline/ColumnTransformer */\n",
              "  background-color: var(--sklearn-color-background);\n",
              "}\n",
              "\n",
              "/* Toggleable label */\n",
              "#sk-container-id-3 label.sk-toggleable__label {\n",
              "  cursor: pointer;\n",
              "  display: flex;\n",
              "  width: 100%;\n",
              "  margin-bottom: 0;\n",
              "  padding: 0.5em;\n",
              "  box-sizing: border-box;\n",
              "  text-align: center;\n",
              "  align-items: start;\n",
              "  justify-content: space-between;\n",
              "  gap: 0.5em;\n",
              "}\n",
              "\n",
              "#sk-container-id-3 label.sk-toggleable__label .caption {\n",
              "  font-size: 0.6rem;\n",
              "  font-weight: lighter;\n",
              "  color: var(--sklearn-color-text-muted);\n",
              "}\n",
              "\n",
              "#sk-container-id-3 label.sk-toggleable__label-arrow:before {\n",
              "  /* Arrow on the left of the label */\n",
              "  content: \"▸\";\n",
              "  float: left;\n",
              "  margin-right: 0.25em;\n",
              "  color: var(--sklearn-color-icon);\n",
              "}\n",
              "\n",
              "#sk-container-id-3 label.sk-toggleable__label-arrow:hover:before {\n",
              "  color: var(--sklearn-color-text);\n",
              "}\n",
              "\n",
              "/* Toggleable content - dropdown */\n",
              "\n",
              "#sk-container-id-3 div.sk-toggleable__content {\n",
              "  max-height: 0;\n",
              "  max-width: 0;\n",
              "  overflow: hidden;\n",
              "  text-align: left;\n",
              "  /* unfitted */\n",
              "  background-color: var(--sklearn-color-unfitted-level-0);\n",
              "}\n",
              "\n",
              "#sk-container-id-3 div.sk-toggleable__content.fitted {\n",
              "  /* fitted */\n",
              "  background-color: var(--sklearn-color-fitted-level-0);\n",
              "}\n",
              "\n",
              "#sk-container-id-3 div.sk-toggleable__content pre {\n",
              "  margin: 0.2em;\n",
              "  border-radius: 0.25em;\n",
              "  color: var(--sklearn-color-text);\n",
              "  /* unfitted */\n",
              "  background-color: var(--sklearn-color-unfitted-level-0);\n",
              "}\n",
              "\n",
              "#sk-container-id-3 div.sk-toggleable__content.fitted pre {\n",
              "  /* unfitted */\n",
              "  background-color: var(--sklearn-color-fitted-level-0);\n",
              "}\n",
              "\n",
              "#sk-container-id-3 input.sk-toggleable__control:checked~div.sk-toggleable__content {\n",
              "  /* Expand drop-down */\n",
              "  max-height: 200px;\n",
              "  max-width: 100%;\n",
              "  overflow: auto;\n",
              "}\n",
              "\n",
              "#sk-container-id-3 input.sk-toggleable__control:checked~label.sk-toggleable__label-arrow:before {\n",
              "  content: \"▾\";\n",
              "}\n",
              "\n",
              "/* Pipeline/ColumnTransformer-specific style */\n",
              "\n",
              "#sk-container-id-3 div.sk-label input.sk-toggleable__control:checked~label.sk-toggleable__label {\n",
              "  color: var(--sklearn-color-text);\n",
              "  background-color: var(--sklearn-color-unfitted-level-2);\n",
              "}\n",
              "\n",
              "#sk-container-id-3 div.sk-label.fitted input.sk-toggleable__control:checked~label.sk-toggleable__label {\n",
              "  background-color: var(--sklearn-color-fitted-level-2);\n",
              "}\n",
              "\n",
              "/* Estimator-specific style */\n",
              "\n",
              "/* Colorize estimator box */\n",
              "#sk-container-id-3 div.sk-estimator input.sk-toggleable__control:checked~label.sk-toggleable__label {\n",
              "  /* unfitted */\n",
              "  background-color: var(--sklearn-color-unfitted-level-2);\n",
              "}\n",
              "\n",
              "#sk-container-id-3 div.sk-estimator.fitted input.sk-toggleable__control:checked~label.sk-toggleable__label {\n",
              "  /* fitted */\n",
              "  background-color: var(--sklearn-color-fitted-level-2);\n",
              "}\n",
              "\n",
              "#sk-container-id-3 div.sk-label label.sk-toggleable__label,\n",
              "#sk-container-id-3 div.sk-label label {\n",
              "  /* The background is the default theme color */\n",
              "  color: var(--sklearn-color-text-on-default-background);\n",
              "}\n",
              "\n",
              "/* On hover, darken the color of the background */\n",
              "#sk-container-id-3 div.sk-label:hover label.sk-toggleable__label {\n",
              "  color: var(--sklearn-color-text);\n",
              "  background-color: var(--sklearn-color-unfitted-level-2);\n",
              "}\n",
              "\n",
              "/* Label box, darken color on hover, fitted */\n",
              "#sk-container-id-3 div.sk-label.fitted:hover label.sk-toggleable__label.fitted {\n",
              "  color: var(--sklearn-color-text);\n",
              "  background-color: var(--sklearn-color-fitted-level-2);\n",
              "}\n",
              "\n",
              "/* Estimator label */\n",
              "\n",
              "#sk-container-id-3 div.sk-label label {\n",
              "  font-family: monospace;\n",
              "  font-weight: bold;\n",
              "  display: inline-block;\n",
              "  line-height: 1.2em;\n",
              "}\n",
              "\n",
              "#sk-container-id-3 div.sk-label-container {\n",
              "  text-align: center;\n",
              "}\n",
              "\n",
              "/* Estimator-specific */\n",
              "#sk-container-id-3 div.sk-estimator {\n",
              "  font-family: monospace;\n",
              "  border: 1px dotted var(--sklearn-color-border-box);\n",
              "  border-radius: 0.25em;\n",
              "  box-sizing: border-box;\n",
              "  margin-bottom: 0.5em;\n",
              "  /* unfitted */\n",
              "  background-color: var(--sklearn-color-unfitted-level-0);\n",
              "}\n",
              "\n",
              "#sk-container-id-3 div.sk-estimator.fitted {\n",
              "  /* fitted */\n",
              "  background-color: var(--sklearn-color-fitted-level-0);\n",
              "}\n",
              "\n",
              "/* on hover */\n",
              "#sk-container-id-3 div.sk-estimator:hover {\n",
              "  /* unfitted */\n",
              "  background-color: var(--sklearn-color-unfitted-level-2);\n",
              "}\n",
              "\n",
              "#sk-container-id-3 div.sk-estimator.fitted:hover {\n",
              "  /* fitted */\n",
              "  background-color: var(--sklearn-color-fitted-level-2);\n",
              "}\n",
              "\n",
              "/* Specification for estimator info (e.g. \"i\" and \"?\") */\n",
              "\n",
              "/* Common style for \"i\" and \"?\" */\n",
              "\n",
              ".sk-estimator-doc-link,\n",
              "a:link.sk-estimator-doc-link,\n",
              "a:visited.sk-estimator-doc-link {\n",
              "  float: right;\n",
              "  font-size: smaller;\n",
              "  line-height: 1em;\n",
              "  font-family: monospace;\n",
              "  background-color: var(--sklearn-color-background);\n",
              "  border-radius: 1em;\n",
              "  height: 1em;\n",
              "  width: 1em;\n",
              "  text-decoration: none !important;\n",
              "  margin-left: 0.5em;\n",
              "  text-align: center;\n",
              "  /* unfitted */\n",
              "  border: var(--sklearn-color-unfitted-level-1) 1pt solid;\n",
              "  color: var(--sklearn-color-unfitted-level-1);\n",
              "}\n",
              "\n",
              ".sk-estimator-doc-link.fitted,\n",
              "a:link.sk-estimator-doc-link.fitted,\n",
              "a:visited.sk-estimator-doc-link.fitted {\n",
              "  /* fitted */\n",
              "  border: var(--sklearn-color-fitted-level-1) 1pt solid;\n",
              "  color: var(--sklearn-color-fitted-level-1);\n",
              "}\n",
              "\n",
              "/* On hover */\n",
              "div.sk-estimator:hover .sk-estimator-doc-link:hover,\n",
              ".sk-estimator-doc-link:hover,\n",
              "div.sk-label-container:hover .sk-estimator-doc-link:hover,\n",
              ".sk-estimator-doc-link:hover {\n",
              "  /* unfitted */\n",
              "  background-color: var(--sklearn-color-unfitted-level-3);\n",
              "  color: var(--sklearn-color-background);\n",
              "  text-decoration: none;\n",
              "}\n",
              "\n",
              "div.sk-estimator.fitted:hover .sk-estimator-doc-link.fitted:hover,\n",
              ".sk-estimator-doc-link.fitted:hover,\n",
              "div.sk-label-container:hover .sk-estimator-doc-link.fitted:hover,\n",
              ".sk-estimator-doc-link.fitted:hover {\n",
              "  /* fitted */\n",
              "  background-color: var(--sklearn-color-fitted-level-3);\n",
              "  color: var(--sklearn-color-background);\n",
              "  text-decoration: none;\n",
              "}\n",
              "\n",
              "/* Span, style for the box shown on hovering the info icon */\n",
              ".sk-estimator-doc-link span {\n",
              "  display: none;\n",
              "  z-index: 9999;\n",
              "  position: relative;\n",
              "  font-weight: normal;\n",
              "  right: .2ex;\n",
              "  padding: .5ex;\n",
              "  margin: .5ex;\n",
              "  width: min-content;\n",
              "  min-width: 20ex;\n",
              "  max-width: 50ex;\n",
              "  color: var(--sklearn-color-text);\n",
              "  box-shadow: 2pt 2pt 4pt #999;\n",
              "  /* unfitted */\n",
              "  background: var(--sklearn-color-unfitted-level-0);\n",
              "  border: .5pt solid var(--sklearn-color-unfitted-level-3);\n",
              "}\n",
              "\n",
              ".sk-estimator-doc-link.fitted span {\n",
              "  /* fitted */\n",
              "  background: var(--sklearn-color-fitted-level-0);\n",
              "  border: var(--sklearn-color-fitted-level-3);\n",
              "}\n",
              "\n",
              ".sk-estimator-doc-link:hover span {\n",
              "  display: block;\n",
              "}\n",
              "\n",
              "/* \"?\"-specific style due to the `<a>` HTML tag */\n",
              "\n",
              "#sk-container-id-3 a.estimator_doc_link {\n",
              "  float: right;\n",
              "  font-size: 1rem;\n",
              "  line-height: 1em;\n",
              "  font-family: monospace;\n",
              "  background-color: var(--sklearn-color-background);\n",
              "  border-radius: 1rem;\n",
              "  height: 1rem;\n",
              "  width: 1rem;\n",
              "  text-decoration: none;\n",
              "  /* unfitted */\n",
              "  color: var(--sklearn-color-unfitted-level-1);\n",
              "  border: var(--sklearn-color-unfitted-level-1) 1pt solid;\n",
              "}\n",
              "\n",
              "#sk-container-id-3 a.estimator_doc_link.fitted {\n",
              "  /* fitted */\n",
              "  border: var(--sklearn-color-fitted-level-1) 1pt solid;\n",
              "  color: var(--sklearn-color-fitted-level-1);\n",
              "}\n",
              "\n",
              "/* On hover */\n",
              "#sk-container-id-3 a.estimator_doc_link:hover {\n",
              "  /* unfitted */\n",
              "  background-color: var(--sklearn-color-unfitted-level-3);\n",
              "  color: var(--sklearn-color-background);\n",
              "  text-decoration: none;\n",
              "}\n",
              "\n",
              "#sk-container-id-3 a.estimator_doc_link.fitted:hover {\n",
              "  /* fitted */\n",
              "  background-color: var(--sklearn-color-fitted-level-3);\n",
              "}\n",
              "</style><div id=\"sk-container-id-3\" class=\"sk-top-container\"><div class=\"sk-text-repr-fallback\"><pre>LogisticRegression()</pre><b>In a Jupyter environment, please rerun this cell to show the HTML representation or trust the notebook. <br />On GitHub, the HTML representation is unable to render, please try loading this page with nbviewer.org.</b></div><div class=\"sk-container\" hidden><div class=\"sk-item\"><div class=\"sk-estimator fitted sk-toggleable\"><input class=\"sk-toggleable__control sk-hidden--visually\" id=\"sk-estimator-id-5\" type=\"checkbox\" checked><label for=\"sk-estimator-id-5\" class=\"sk-toggleable__label fitted sk-toggleable__label-arrow\"><div><div>LogisticRegression</div></div><div><a class=\"sk-estimator-doc-link fitted\" rel=\"noreferrer\" target=\"_blank\" href=\"https://scikit-learn.org/1.6/modules/generated/sklearn.linear_model.LogisticRegression.html\">?<span>Documentation for LogisticRegression</span></a><span class=\"sk-estimator-doc-link fitted\">i<span>Fitted</span></span></div></label><div class=\"sk-toggleable__content fitted\"><pre>LogisticRegression()</pre></div> </div></div></div></div>"
            ],
            "text/plain": [
              "LogisticRegression()"
            ]
          },
          "execution_count": 114,
          "metadata": {},
          "output_type": "execute_result"
        }
      ],
      "source": [
        "#Fit model\n",
        "model_2.fit(xf_train,yf_train)"
      ]
    },
    {
      "cell_type": "code",
      "execution_count": 115,
      "metadata": {
        "id": "QAdFGc-tcK2p"
      },
      "outputs": [],
      "source": [
        "#Predicating the y_train with new build model\n",
        "yf_train_pred = model_2.predict(xf_train)"
      ]
    },
    {
      "cell_type": "code",
      "execution_count": 116,
      "metadata": {
        "id": "ZUq971KfcK2t"
      },
      "outputs": [],
      "source": [
        "#considering only postive prob\n",
        "yf_train_pred_prob = model_2.predict_proba(xf_train)[:,1]"
      ]
    },
    {
      "cell_type": "code",
      "execution_count": 118,
      "metadata": {
        "colab": {
          "base_uri": "https://localhost:8080/",
          "height": 1000
        },
        "id": "BAQoOYzQcK2y",
        "outputId": "922ee330-f991-4a80-fb69-29d2cd4a334f"
      },
      "outputs": [
        {
          "name": "stdout",
          "output_type": "stream",
          "text": [
            "Classification Report:\n",
            "              precision    recall  f1-score   support\n",
            "\n",
            "      Joined       0.79      0.82      0.81      5844\n",
            "  Not Joined       0.82      0.78      0.80      5856\n",
            "\n",
            "    accuracy                           0.80     11700\n",
            "   macro avg       0.80      0.80      0.80     11700\n",
            "weighted avg       0.80      0.80      0.80     11700\n",
            "\n",
            "ROC-AUC Score: 0.886\n"
          ]
        },
        {
          "data": {
            "image/png": "[encoded data removed]",
            "text/plain": [
              "<Figure size 640x480 with 1 Axes>"
            ]
          },
          "metadata": {},
          "output_type": "display_data"
        },
        {
          "name": "stdout",
          "output_type": "stream",
          "text": [
            "Additional info: 950 samples evaluated.\n"
          ]
        }
      ],
      "source": [
        "classification_metric(yf_train,yf_train_pred,yf_train_pred_prob,['Joined','Not Joined'],n=950,verbose=True)"
      ]
    },
    {
      "cell_type": "code",
      "execution_count": 119,
      "metadata": {
        "id": "zvjUX60FaoiK"
      },
      "outputs": [],
      "source": [
        "#Getting TN FP FN TP\n",
        "tn, fp, fn, tp = confusion_matrix(yf_train,yf_train_pred).ravel()"
      ]
    },
    {
      "cell_type": "code",
      "execution_count": 120,
      "metadata": {
        "colab": {
          "base_uri": "https://localhost:8080/"
        },
        "id": "yCLXnWSNeFgc",
        "outputId": "f5c64f30-6af8-4b59-eede-15efbb88ffb1"
      },
      "outputs": [
        {
          "data": {
            "text/plain": [
              "(4812, 1032, 1278, 4578)"
            ]
          },
          "execution_count": 120,
          "metadata": {},
          "output_type": "execute_result"
        }
      ],
      "source": [
        "tn, fp, fn, tp"
      ]
    },
    {
      "cell_type": "markdown",
      "metadata": {
        "id": "lJlbug7vfh9j"
      },
      "source": [
        "### Given criteria:\n",
        "Cost of predicting **“Not Joining” as “Joining” (FPs) cases is 3 times\n",
        "more than predicting “Joining” as “Not Joining” (FNs)**\n",
        "From above we can see **FP's**:2344, **FN's**:1429 which is FP's are ~1.64 greater than FN's we doesn't satifies the conditions\n",
        "\n",
        "_from the_ **_above ROC_AUC _curve_** it is clear that the threshold probality value should be decreased in order to satifies the given criteria. but lets us find the point were the FP's to FN's ratio increase are decrease"
      ]
    },
    {
      "cell_type": "code",
      "execution_count": 122,
      "metadata": {
        "id": "mX9DMBlfeIp4"
      },
      "outputs": [],
      "source": [
        "#A Simple loop to fit the given criteria\n",
        "probailites = np.linspace(0,1,num=100) #Genrating 100 values in between 0-1\n",
        "FP = [] #Store the genrated FP's in the list FP\n",
        "FN = [] #Store the genrated FN's in the list FN\n",
        "for p in probailites:\n",
        "  pre.th = p\n",
        "  yyf = pd.Series(yf_train_pred_prob)\n",
        "  yf_pred = yyf.apply(pre.apply_threshold)\n",
        "  tn, fp, fn, tp = confusion_matrix(yf_train,yf_pred).ravel()\n",
        "  FP.append(fp)\n",
        "  FN.append(fn)"
      ]
    },
    {
      "cell_type": "code",
      "execution_count": 123,
      "metadata": {
        "id": "ap84boZZe41G"
      },
      "outputs": [],
      "source": [
        "#Simple DataFrame to get the ratio between the FP's & FN's\n",
        "FPS = pd.DataFrame(index=probailites) #Making index as probailies\n",
        "FPS['FP'] = FP #Adding the FP\n",
        "FPS['FN'] = FN #Adding the FN\n",
        "FPS['Ratio'] = np.array(FP)/np.array(FN) #Finding the ratio between them"
      ]
    },
    {
      "cell_type": "code",
      "execution_count": 124,
      "metadata": {
        "colab": {
          "base_uri": "https://localhost:8080/",
          "height": 206
        },
        "id": "SvswYgpIfASG",
        "outputId": "a103b157-99d8-42fd-cb69-a7371343b810"
      },
      "outputs": [
        {
          "data": {
            "text/html": [
              "<div>\n",
              "<style scoped>\n",
              "    .dataframe tbody tr th:only-of-type {\n",
              "        vertical-align: middle;\n",
              "    }\n",
              "\n",
              "    .dataframe tbody tr th {\n",
              "        vertical-align: top;\n",
              "    }\n",
              "\n",
              "    .dataframe thead th {\n",
              "        text-align: right;\n",
              "    }\n",
              "</style>\n",
              "<table border=\"1\" class=\"dataframe\">\n",
              "  <thead>\n",
              "    <tr style=\"text-align: right;\">\n",
              "      <th></th>\n",
              "      <th>FP</th>\n",
              "      <th>FN</th>\n",
              "      <th>Ratio</th>\n",
              "    </tr>\n",
              "  </thead>\n",
              "  <tbody>\n",
              "    <tr>\n",
              "      <th>0.000000</th>\n",
              "      <td>313</td>\n",
              "      <td>1871</td>\n",
              "      <td>0.16729</td>\n",
              "    </tr>\n",
              "    <tr>\n",
              "      <th>0.010101</th>\n",
              "      <td>313</td>\n",
              "      <td>1871</td>\n",
              "      <td>0.16729</td>\n",
              "    </tr>\n",
              "    <tr>\n",
              "      <th>0.020202</th>\n",
              "      <td>313</td>\n",
              "      <td>1871</td>\n",
              "      <td>0.16729</td>\n",
              "    </tr>\n",
              "    <tr>\n",
              "      <th>0.030303</th>\n",
              "      <td>313</td>\n",
              "      <td>1871</td>\n",
              "      <td>0.16729</td>\n",
              "    </tr>\n",
              "    <tr>\n",
              "      <th>0.040404</th>\n",
              "      <td>313</td>\n",
              "      <td>1871</td>\n",
              "      <td>0.16729</td>\n",
              "    </tr>\n",
              "  </tbody>\n",
              "</table>\n",
              "</div>"
            ],
            "text/plain": [
              "           FP    FN    Ratio\n",
              "0.000000  313  1871  0.16729\n",
              "0.010101  313  1871  0.16729\n",
              "0.020202  313  1871  0.16729\n",
              "0.030303  313  1871  0.16729\n",
              "0.040404  313  1871  0.16729"
            ]
          },
          "execution_count": 124,
          "metadata": {},
          "output_type": "execute_result"
        }
      ],
      "source": [
        "#View\n",
        "FPS.head()"
      ]
    },
    {
      "cell_type": "code",
      "execution_count": 125,
      "metadata": {
        "colab": {
          "base_uri": "https://localhost:8080/",
          "height": 1000
        },
        "id": "zdq1EHp2fCwF",
        "outputId": "34862a32-6873-4ed4-9e08-3bf64fba20a9"
      },
      "outputs": [
        {
          "data": {
            "text/html": [
              "<div>\n",
              "<style scoped>\n",
              "    .dataframe tbody tr th:only-of-type {\n",
              "        vertical-align: middle;\n",
              "    }\n",
              "\n",
              "    .dataframe tbody tr th {\n",
              "        vertical-align: top;\n",
              "    }\n",
              "\n",
              "    .dataframe thead th {\n",
              "        text-align: right;\n",
              "    }\n",
              "</style>\n",
              "<table border=\"1\" class=\"dataframe\">\n",
              "  <thead>\n",
              "    <tr style=\"text-align: right;\">\n",
              "      <th></th>\n",
              "      <th>FP</th>\n",
              "      <th>FN</th>\n",
              "      <th>Ratio</th>\n",
              "    </tr>\n",
              "  </thead>\n",
              "  <tbody>\n",
              "  </tbody>\n",
              "</table>\n",
              "</div>"
            ],
            "text/plain": [
              "Empty DataFrame\n",
              "Columns: [FP, FN, Ratio]\n",
              "Index: []"
            ]
          },
          "execution_count": 125,
          "metadata": {},
          "output_type": "execute_result"
        }
      ],
      "source": [
        "#Filterting the ratio to be greater than '3'\n",
        "FPS[FPS[\"Ratio\"]>3]"
      ]
    },
    {
      "cell_type": "markdown",
      "metadata": {
        "id": "j1V5q8Fjqc0J"
      },
      "source": [
        "From above dataframe it is clear that the **ratio between the FP's to FN's** are started to increase from the probability values of **0.4444**"
      ]
    },
    {
      "cell_type": "code",
      "execution_count": 126,
      "metadata": {
        "id": "K1gGF-jBswE4"
      },
      "outputs": [],
      "source": [
        "#Predicating the test values\n",
        "yf_test_pred = model_2.predict(xf_test)"
      ]
    },
    {
      "cell_type": "code",
      "execution_count": 127,
      "metadata": {
        "id": "LroqistqswFB"
      },
      "outputs": [],
      "source": [
        "#considering only postive prob\n",
        "yf_test_pred_prob = model_2.predict_proba(xf_test)[:,1]"
      ]
    },
    {
      "cell_type": "code",
      "execution_count": 129,
      "metadata": {
        "id": "JCzrvzw7l-a0"
      },
      "outputs": [],
      "source": [
        "#Predicating again with the new prob value\n",
        "pre.th = 0.4444\n",
        "yyf_test = pd.Series(yf_test_pred_prob)\n",
        "yyf_train = pd.Series(yf_train_pred_prob)\n",
        "yf_pred_test = yyf_test.apply(pre.apply_threshold)\n",
        "yf_pred_train = yyf_train.apply(pre.apply_threshold)"
      ]
    },
    {
      "cell_type": "code",
      "execution_count": 130,
      "metadata": {
        "colab": {
          "base_uri": "https://localhost:8080/"
        },
        "id": "R3Jk6yW_s_6Q",
        "outputId": "dbf2f219-fb5a-4a50-e18f-62a277a9ef8f"
      },
      "outputs": [
        {
          "name": "stdout",
          "output_type": "stream",
          "text": [
            "              precision    recall  f1-score   support\n",
            "\n",
            "           0       0.75      0.95      0.84      5844\n",
            "           1       0.93      0.68      0.78      5856\n",
            "\n",
            "    accuracy                           0.81     11700\n",
            "   macro avg       0.84      0.81      0.81     11700\n",
            "weighted avg       0.84      0.81      0.81     11700\n",
            "\n",
            "TP's = 3985\n",
            "FP's = 313 \n",
            "FN's = 1871 \n",
            "TN's = 5531 \n"
          ]
        }
      ],
      "source": [
        "#classification report for new genrated values !train\n",
        "cr = classification_report(yf_train,yf_pred_train)\n",
        "tn, fp, fn, tp = confusion_matrix(yf_train,yf_pred_train).ravel()\n",
        "print(cr)\n",
        "print(\"TP's = {}\\nFP's = {} \\nFN's = {} \\nTN's = {} \".format(tp, fp, fn, tn))"
      ]
    },
    {
      "cell_type": "code",
      "execution_count": 131,
      "metadata": {
        "colab": {
          "base_uri": "https://localhost:8080/"
        },
        "id": "xoRnEaT8tQzN",
        "outputId": "dd080fee-d54b-433c-a168-fd1d14c1e3a0"
      },
      "outputs": [
        {
          "name": "stdout",
          "output_type": "stream",
          "text": [
            "              precision    recall  f1-score   support\n",
            "\n",
            "           0       0.75      0.95      0.84      1469\n",
            "           1       0.93      0.68      0.78      1457\n",
            "\n",
            "    accuracy                           0.81      2926\n",
            "   macro avg       0.84      0.81      0.81      2926\n",
            "weighted avg       0.84      0.81      0.81      2926\n",
            "\n",
            "TP's = 986\n",
            "FP's = 72 \n",
            "FN's = 471 \n",
            "TN's = 1397 \n"
          ]
        }
      ],
      "source": [
        "#classification report for new genrated values !test\n",
        "cr = classification_report(yf_test,yf_pred_test)\n",
        "tn, fp, fn, tp = confusion_matrix(yf_test,yf_pred_test).ravel()\n",
        "print(cr)\n",
        "print(\"TP's = {}\\nFP's = {} \\nFN's = {} \\nTN's = {} \".format(tp, fp, fn, tn))"
      ]
    },
    {
      "cell_type": "code",
      "execution_count": 132,
      "metadata": {
        "colab": {
          "base_uri": "https://localhost:8080/",
          "height": 578
        },
        "id": "78wNVZeawG0q",
        "outputId": "50640ede-360c-4291-f69e-bf8aeb9b0349"
      },
      "outputs": [
        {
          "data": {
            "image/png": "[encoded data removed]",
            "text/plain": [
              "<Figure size 1000x600 with 1 Axes>"
            ]
          },
          "metadata": {},
          "output_type": "display_data"
        }
      ],
      "source": [
        "#confusion matrix for new genrated data\n",
        "plt.figure(figsize=(10,6))\n",
        "sns.heatmap(np.array([[4951,2894],[903,2952]]),annot=True,fmt='.2f',cbar=False\n",
        "            ,xticklabels=['Not Joined','Joined'],yticklabels=['Not Joined','Joined'],cmap='Set2',linewidths=1.5)\n",
        "plt.xlabel('Predicted Values',fontsize=15)\n",
        "plt.ylabel('Actual Values',fontsize=15)\n",
        "plt.title('Confusion Matrix',fontsize=20)\n",
        "plt.show()"
      ]
    },
    {
      "cell_type": "markdown",
      "metadata": {
        "id": "dQM3r_D3znNh"
      },
      "source": [
        "As for the given criteria which is FP's should be 3 time more than the FN's the cut-off probability choosen is **0.4444**\n",
        "\n",
        "**$\\frac{FP's}{FN's}$ ~ 3**\n",
        "\n",
        "_! Below values are for the train data_\n",
        "\n",
        "**Precision = $\\frac{TP's}{TP's + FP's}$ = $\\frac{4951}{4951 + 2894}$ ~ 0.63**\n",
        "\n",
        "**Recall = $\\frac{TP's}{TP's + FN's}$ = $\\frac{4951}{4951 + 903}$ ~ 0.85**\n",
        "\n"
      ]
    }
  ],
  "metadata": {
    "colab": {
      "include_colab_link": true,
      "provenance": []
    },
    "kernelspec": {
      "display_name": "Python 3",
      "language": "python",
      "name": "python3"
    },
    "language_info": {
      "codemirror_mode": {
        "name": "ipython",
        "version": 3
      },
      "file_extension": ".py",
      "mimetype": "text/x-python",
      "name": "python",
      "nbconvert_exporter": "python",
      "pygments_lexer": "ipython3",
      "version": "3.12.2"
    }
  },
  "nbformat": 4,
  "nbformat_minor": 0
}
